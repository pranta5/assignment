{
 "cells": [
  {
   "cell_type": "markdown",
   "id": "e22632e3-bf48-4761-be4a-f5c4c66a9a1c",
   "metadata": {},
   "source": [
    "Q1. Create a function which will take a list as an argument and return the product of all the numbers\n",
    "after creating a flat list.\n",
    "Use the below-given list as an argument for your function.\n",
    "list1 = [1,2,3,4, [44,55,66, True], False, (34,56,78,89,34), {1,2,3,3,2,1}, {1:34, \"key2\": [55, 67, 78, 89], 4: (45,\n",
    "22, 61, 34)}, [56, 'data science'], 'Machine Learning']\n",
    "Note: you must extract numeric keys and values of the dictionary also."
   ]
  },
  {
   "cell_type": "code",
   "execution_count": 69,
   "id": "94ae40d0-ecc2-43a0-8977-18bbf92fdb6d",
   "metadata": {},
   "outputs": [
    {
     "name": "stdout",
     "output_type": "stream",
     "text": [
      "[1, 2, 3, 4, 44, 55, 66, True, False, 34, 56, 78, 89, 34, 1, 2, 3, 1, 'key2', 4, 56, 'data science', 'Machine Learning']\n",
      "[1, 2, 3, 4, 44, 55, 66, True, False, 34, 56, 78, 89, 34, 1, 2, 3, 1, 4, 56]\n"
     ]
    }
   ],
   "source": [
    "from typing import Iterable \n",
    "#from collections import Iterable                            # < py38\n",
    "l= [1,2,3,4, [44,55,66, True], False, (34,56,78,89,34), {1,2,3,3,2,1}, {1:34, \"key2\": [55, 67, 78, 89], 4: (45,\n",
    "22, 61, 34)}, [56, 'data science'], 'Machine Learning']\n",
    "\n",
    "def flatten(items):\n",
    "    \"\"\"Yield items from any nested iterable; see Reference.\"\"\"\n",
    "    for x in items:\n",
    "        if isinstance(x, Iterable) and not isinstance(x, (str, bytes)):\n",
    "            for sub_x in flatten(x):\n",
    "                yield sub_x\n",
    "        else:\n",
    "            yield x\n",
    "re=list(flatten(l))\n",
    "print(re)\n",
    "\n",
    "re1=[z for z in re if isinstance(z, int)]\n",
    "print(re1)\n",
    "            "
   ]
  },
  {
   "cell_type": "code",
   "execution_count": null,
   "id": "e6a01397-5cb0-4f66-9464-27a8ae163a8e",
   "metadata": {},
   "outputs": [],
   "source": []
  },
  {
   "cell_type": "markdown",
   "id": "d64ae9ba-4894-4704-bf99-20c5ffd803c7",
   "metadata": {},
   "source": [
    "Q2. Write a python program for encrypting a message sent to you by your friend. The logic of encryption\n",
    "should be such that, for a the output should be z. For b, the output should be y. For c, the output should\n",
    "be x respectively. Also, the whitespace should be replaced with a dollar sign. Keep the punctuation\n",
    "marks unchanged.\n",
    "Input Sentence: I want to become a Data Scientist.\n",
    "Encrypt the above input sentence using the program you just created.\n",
    "Note: Convert the given input sentence into lowercase before encrypting. The final output should be\n",
    "lowercase."
   ]
  },
  {
   "cell_type": "code",
   "execution_count": 74,
   "id": "050cf90d-3b27-4a9e-8b10-de635ca4beab",
   "metadata": {},
   "outputs": [
    {
     "name": "stdout",
     "output_type": "stream",
     "text": [
      "i$wznt$to$yexome$z$dztz$sxientist\n"
     ]
    }
   ],
   "source": [
    "st=\"I want to become a Data Scientist\"\n",
    "st1=st.lower()\n",
    "dict = {\"a\": \"z\",\"b\":\"y\",\n",
    "       \"c\":\"x\",\" \":\"$\"}\n",
    "num=st1\n",
    "for i in dict:\n",
    "    num=num.replace(i,dict[i])\n",
    "print(num)"
   ]
  },
  {
   "cell_type": "markdown",
   "id": "d3a49f3f-888b-4c8e-b05c-d7f78791be24",
   "metadata": {},
   "source": [
    "test1"
   ]
  },
  {
   "cell_type": "code",
   "execution_count": 24,
   "id": "813ba33e-8631-4558-a629-cc9b9d55efb3",
   "metadata": {},
   "outputs": [],
   "source": [
    "l= [1,2,3,4, [44,55,66, True], False, (34,56,78,89,34), {1,2,3,3,2,1}, {1:34, \"key2\": [55, 67, 78, 89], 4: (45,\n",
    "22, 61, 34)}, [56, 'data science'], 'Machine Learning']\n",
    "\n",
    "l1_int=[]\n",
    "for i in l:\n",
    "    if type(i)==list or type(i)==tuple or type(i)==dict or type(i)==set:\n",
    "        for j in i:\n",
    "            if type(j)==int :\n",
    "                l1_int.append(j)\n"
   ]
  },
  {
   "cell_type": "code",
   "execution_count": 25,
   "id": "668b052e-83a6-487c-8cd5-c35cb339e1c8",
   "metadata": {},
   "outputs": [
    {
     "data": {
      "text/plain": [
       "[44, 55, 66, 34, 56, 78, 89, 34, 1, 2, 3, 1, 4, 56]"
      ]
     },
     "execution_count": 25,
     "metadata": {},
     "output_type": "execute_result"
    }
   ],
   "source": [
    "l1_int"
   ]
  },
  {
   "cell_type": "code",
   "execution_count": null,
   "id": "985c1207-a165-48fb-bdf9-d786a7001ecc",
   "metadata": {},
   "outputs": [],
   "source": []
  }
 ],
 "metadata": {
  "kernelspec": {
   "display_name": "Python 3 (ipykernel)",
   "language": "python",
   "name": "python3"
  },
  "language_info": {
   "codemirror_mode": {
    "name": "ipython",
    "version": 3
   },
   "file_extension": ".py",
   "mimetype": "text/x-python",
   "name": "python",
   "nbconvert_exporter": "python",
   "pygments_lexer": "ipython3",
   "version": "3.10.8"
  }
 },
 "nbformat": 4,
 "nbformat_minor": 5
}
