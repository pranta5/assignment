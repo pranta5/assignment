{
 "cells": [
  {
   "cell_type": "markdown",
   "id": "ba7b0b61-2867-4b5f-902e-3b28110c7e99",
   "metadata": {},
   "source": [
    "Q1. What is Statistics?"
   ]
  },
  {
   "cell_type": "markdown",
   "id": "e0568441-ba2f-43dd-885e-ce88592391bb",
   "metadata": {},
   "source": [
    "Statistics is a branch of mathematics that deals with the collection, analysis, interpretation, presentation, and organization of data. It involves the use of mathematical methods and techniques to describe and analyze data, make inferences and predictions, and support decision making.\n",
    "\n",
    " statistics provides a framework for understanding and making sense of data, and is a fundamental tool for decision making in many fields."
   ]
  },
  {
   "cell_type": "code",
   "execution_count": null,
   "id": "19ae19a4-ecae-4399-8ffa-fbceb54596a1",
   "metadata": {},
   "outputs": [],
   "source": []
  },
  {
   "cell_type": "markdown",
   "id": "1d3aa088-4625-40f8-abd2-51f4aafde271",
   "metadata": {},
   "source": [
    "Q2. Define the different types of statistics and give an example of when each type might be used."
   ]
  },
  {
   "cell_type": "markdown",
   "id": "f4040ae5-6296-4c3a-ba2e-9fbe012e7a30",
   "metadata": {},
   "source": [
    "There are two main types of statistics: descriptive statistics and inferential statistics.\n",
    "\n",
    " 1.  Descriptive Statistics: Descriptive statistics are used to describe and summarize data using numerical or graphical methods.  \n",
    " \n",
    " Some examples of descriptive statistics include measures of central tendency such as mean, median, and mode, and measures of variability such as range, variance, and standard deviation. Descriptive statistics are used to describe the characteristics of a population or sample.\n",
    " \n",
    " 2. Inferential Statistics: Inferential statistics are used to make inferences and predictions about a population based on a sample. This type of statistics involves the use of probability theory and hypothesis testing to draw conclusions about a population from a sample.\n",
    " \n",
    " For example, a market researcher might use inferential statistics to estimate the size of a target market based on a survey of a small sample of potential customers.\n",
    "\n"
   ]
  },
  {
   "cell_type": "code",
   "execution_count": null,
   "id": "74105a92-c4eb-4351-bd4c-3682da4ffacf",
   "metadata": {},
   "outputs": [],
   "source": []
  },
  {
   "cell_type": "markdown",
   "id": "e92cf485-e2a2-4594-924b-0d170755b9b9",
   "metadata": {},
   "source": [
    " Q3.What are the different types of data and how do they differ from each other? Provide an example of each type of data."
   ]
  },
  {
   "cell_type": "markdown",
   "id": "18a685cb-01fa-4bb4-aae7-c93f65109428",
   "metadata": {},
   "source": [
    "types of data - nominal, ordinal,Discrete,Continuous\n",
    "\n",
    "nominal - Gender , blood group , pincode\n",
    "\n",
    "ordinal - customer feedback\n",
    "\n",
    "discrete - no. of bank account \n",
    "\n",
    "continuous - weigt , height , space "
   ]
  },
  {
   "cell_type": "code",
   "execution_count": null,
   "id": "e1e706ff-c5d9-4d14-b6ab-84d05fee6115",
   "metadata": {},
   "outputs": [],
   "source": []
  },
  {
   "cell_type": "markdown",
   "id": "3de84013-d98b-485a-b89d-66a06fd28402",
   "metadata": {},
   "source": [
    "Q4. Categorise the following datasets with respect to quantitative and qualitative data types:\n",
    "\n",
    "(i) Grading in exam: A+, A, B+, B, C+, C, D, E\n",
    "\n",
    "(ii) Colour of mangoes: yellow, green, orange, red\n",
    "\n",
    "(iii) Height data of a class: [178.9, 179, 179.5, 176, 177.2, 178.3, 175.8,...]\n",
    "\n",
    "(iv) Number of mangoes exported by a farm: [500, 600, 478, 672, ...]"
   ]
  },
  {
   "cell_type": "markdown",
   "id": "4ac67b64-574f-4563-8e8c-5157afce5f26",
   "metadata": {},
   "source": [
    " Ans-\n",
    " \n",
    "(i) Grading in exam: A+, A, B+, B, C+, C, D, E\n",
    "\n",
    "Data type: Qualitative data (Ordinal)\n",
    "\n",
    "(ii) Colour of mangoes: yellow, green, orange, red\n",
    "\n",
    "Data type: Qualitative data (Nominal)\n",
    "\n",
    "(iii) Height data of a class: [178.9, 179, 179.5, 176, 177.2, 178.3, 175.8,...]\n",
    "\n",
    "Data type: Quantitative data (Continuous)\n",
    "\n",
    "(iv) Number of mangoes exported by a farm: [500, 600, 478, 672, ...]\n",
    "\n",
    "Data type: Quantitative data (Discrete)"
   ]
  },
  {
   "cell_type": "code",
   "execution_count": null,
   "id": "f6830bad-8775-4868-9a8d-61b2b8cb2eb1",
   "metadata": {},
   "outputs": [],
   "source": []
  },
  {
   "cell_type": "markdown",
   "id": "9460a887-206f-4ea9-a8fa-c4f6e8b9cc96",
   "metadata": {},
   "source": [
    " Q5. Explain the concept of levels of measurement and give an example of a variable for each level."
   ]
  },
  {
   "cell_type": "markdown",
   "id": "3b6853d4-12a8-4d3d-a166-c697dc4c574d",
   "metadata": {},
   "source": [
    "Levels of measurement, also known as scales of measurement, refer to the different ways in which variables can be measured. There are four main levels of measurement: nominal, ordinal, interval, and ratio.\n",
    "\n",
    "Nominal Level: The nominal level of measurement is used for categorical data that can be grouped into distinct categories that are mutually exclusive and collectively exhaustive. Nominal data can be labeled, but the order or ranking of the categories is not meaningful. For example, gender (male, female, other) and eye color (blue, brown, green, etc.) are nominal variables.\n",
    "\n",
    "Ordinal Level: The ordinal level of measurement is used for categorical data that can be ordered or ranked. The categories are mutually exclusive and collectively exhaustive, but the distance between the categories is not meaningful. For example, educational level (elementary, high school, college, post-graduate) and letter grades (A, B, C, D, F) are ordinal variables.\n",
    "\n",
    "Interval Level: The interval level of measurement is used for numerical data that has equal intervals between values, but there is no true zero point. This means that ratios between values cannot be calculated. For example, temperature measured in Celsius or Fahrenheit and years on a calendar are interval variables.\n",
    "\n",
    "Ratio Level: The ratio level of measurement is used for numerical data that has equal intervals between values and a true zero point. This means that ratios between values can be calculated. For example, height, weight, and income are ratio variables."
   ]
  },
  {
   "cell_type": "code",
   "execution_count": null,
   "id": "9689f6e5-1acf-45e7-b046-6a8213e7353b",
   "metadata": {},
   "outputs": [],
   "source": []
  },
  {
   "cell_type": "markdown",
   "id": "5b6cc1bf-606c-4477-a3b7-8fe36adde2f2",
   "metadata": {},
   "source": [
    "Q6. Why is it important to understand the level of measurement when analyzing data? Provide an example to illustrate your answer."
   ]
  },
  {
   "cell_type": "markdown",
   "id": "7136d39e-5f75-4b2b-b5f1-6644a48bcbe1",
   "metadata": {},
   "source": [
    "Understanding the level of measurement is important when analyzing data because it determines the type of statistical analysis that can be used and the appropriate measures of central tendency and dispersion to use.\n",
    "\n",
    "For example, if a researcher is studying the relationship between income and job satisfaction, they must be aware of the level of measurement of the income variable. If income is measured on a nominal scale (e.g., low, medium, high), it cannot be used in a correlation analysis, which requires the use of interval or ratio variables. Similarly, if income is measured on an ordinal scale, the researcher cannot use parametric statistical tests like t-tests and ANOVA that assume interval-level data."
   ]
  },
  {
   "cell_type": "code",
   "execution_count": null,
   "id": "d99ae337-1304-4920-a1f7-a525d443149b",
   "metadata": {},
   "outputs": [],
   "source": []
  },
  {
   "cell_type": "markdown",
   "id": "d7c677ae-402c-41dd-a5ce-acaa91ef97e2",
   "metadata": {},
   "source": [
    "Q7. How nominal data type is different from ordinal data type."
   ]
  },
  {
   "cell_type": "markdown",
   "id": "3c2ce74e-65eb-49ba-96a0-fa0b3b1927a0",
   "metadata": {},
   "source": [
    "Nominal and ordinal data types are two of the four levels of measurement in statistics. The main difference between nominal and ordinal data types is that nominal data are categorical data that can be grouped into distinct categories, while ordinal data are categorical data that can be ordered or ranked.\n",
    "\n",
    "Nominal data are variables in which the values are categories with no inherent order or ranking. For example, gender (male, female, non-binary), eye color (blue, green, brown, etc.), and types of animals (mammals, birds, reptiles, etc.) are examples of nominal data. In nominal data, it is not possible to say that one category is greater than or less than another. The categories are just distinct groups, and each category is mutually exclusive and collectively exhaustive.\n",
    "\n",
    "On the other hand, ordinal data are variables in which the values are categories that can be ordered or ranked. For example, educational level (elementary, high school, college, post-graduate) and letter grades (A, B, C, D, F) are examples of ordinal data. In ordinal data, the categories have an inherent order or ranking, but the distance between categories is not equal. This means that it is possible to say that one category is greater than or less than another, but the exact difference between categories is not well-defined."
   ]
  },
  {
   "cell_type": "code",
   "execution_count": null,
   "id": "48b24b42-b2c5-4bc7-9dd9-1555e6021a46",
   "metadata": {},
   "outputs": [],
   "source": []
  },
  {
   "cell_type": "markdown",
   "id": "284aedd2-d851-4b28-8ccf-573d3e770c35",
   "metadata": {},
   "source": [
    "Q8.Which type of plot can be used to display data in terms of range?"
   ]
  },
  {
   "cell_type": "markdown",
   "id": "9b510c76-808a-4ae4-82dc-1960642189a2",
   "metadata": {},
   "source": [
    "A box plot, also known as a box-and-whisker plot, is a type of plot that can be used to display data in terms of range. The plot is used to show the distribution of a set of continuous data by dividing the data into quartiles. The box in the plot represents the middle 50% of the data (from the 25th to the 75th percentile), while the whiskers represent the minimum and maximum values. The line inside the box represents the median or the 50th percentile.\n",
    "\n",
    "Box plots are useful for visualizing the spread and skewness of data, as well as identifying potential outliers. They are commonly used in statistical analysis, especially in comparing distributions between groups. Box plots are particularly useful when comparing multiple data sets, as they can easily show differences in range and dispersion between the sets."
   ]
  },
  {
   "cell_type": "code",
   "execution_count": null,
   "id": "25262a3c-115a-43b2-9d03-04ba7de2e0fb",
   "metadata": {},
   "outputs": [],
   "source": []
  },
  {
   "cell_type": "markdown",
   "id": "f67d4588-9737-4bd0-93df-82404339a729",
   "metadata": {},
   "source": [
    "Q9.Describe the difference between descriptive and inferential statistics. Give an example of each type of statistics and explain how they are used."
   ]
  },
  {
   "cell_type": "markdown",
   "id": "4e0e13fc-e6f0-4014-b55a-357557e2e0fd",
   "metadata": {},
   "source": [
    "Descriptive statistics is the branch of statistics that deals with summarizing and describing the characteristics of a data set, such as measures of central tendency, variability, and distribution. The goal of descriptive statistics is to describe and summarize the data in a meaningful way to make it easier to understand and interpret. Descriptive statistics are useful in situations where a researcher wants to summarize and present the main features of the data without making any inferences or generalizations beyond the data set. For example, calculating the mean, median, and mode of a set of test scores is an example of descriptive statistics.\n",
    "\n",
    "Inferential statistics, on the other hand, is the branch of statistics that deals with making inferences and predictions about a population based on a sample of data. The goal of inferential statistics is to generalize the findings from a sample to a larger population, using probability theory and hypothesis testing. Inferential statistics are useful in situations where a researcher wants to test a hypothesis or make predictions about a population based on a sample of data. For example, conducting a t-test to compare the mean test scores of two groups and determine if the difference between them is statistically significant is an example of inferential statistics."
   ]
  },
  {
   "cell_type": "code",
   "execution_count": null,
   "id": "822eeb5f-1725-4a1b-b155-50454f92d9d9",
   "metadata": {},
   "outputs": [],
   "source": []
  },
  {
   "cell_type": "markdown",
   "id": "b7ea61cf-af67-4dd6-bc94-7f7648994838",
   "metadata": {},
   "source": [
    "Q10. What are some common measures of central tendency and variability used in statistics? Explain how each measure can be used to describe a dataset."
   ]
  },
  {
   "cell_type": "markdown",
   "id": "2de37a70-c75a-4925-ad4b-7216306d4717",
   "metadata": {},
   "source": [
    "Measures of central tendency and variability are used to describe the characteristics of a dataset. There are several measures of central tendency and variability used in statistics.\n",
    "\n",
    "Measures of central tendency describe where the center of the data is located. The three most common measures of central tendency are:\n",
    "\n",
    "Mean: The mean is the average of a set of numbers. It is calculated by adding up all the values in the dataset and dividing by the number of values. The mean is sensitive to outliers and can be affected by extreme values.\n",
    "\n",
    "Median: The median is the middle value of a set of numbers when they are arranged in order. It is less sensitive to outliers than the mean and is often used when there are extreme values in the dataset.\n",
    "\n",
    "Mode: The mode is the most frequently occurring value in a set of numbers. It is useful for describing the most common value in the dataset.\n",
    "\n",
    "Measures of variability describe how spread out the data is. The three most common measures of variability are:\n",
    "\n",
    "Range: The range is the difference between the largest and smallest values in the dataset. It provides a rough estimate of the spread of the data.\n",
    "\n",
    "Variance: The variance is the average of the squared differences from the mean. It measures how much the data deviates from the mean.\n",
    "\n",
    "Standard deviation: The standard deviation is the square root of the variance. It provides a more precise measure of the spread of the data than the range."
   ]
  },
  {
   "cell_type": "code",
   "execution_count": null,
   "id": "da8821ba-77cf-4333-9aab-69f4519e5a0a",
   "metadata": {},
   "outputs": [],
   "source": []
  }
 ],
 "metadata": {
  "kernelspec": {
   "display_name": "Python 3 (ipykernel)",
   "language": "python",
   "name": "python3"
  },
  "language_info": {
   "codemirror_mode": {
    "name": "ipython",
    "version": 3
   },
   "file_extension": ".py",
   "mimetype": "text/x-python",
   "name": "python",
   "nbconvert_exporter": "python",
   "pygments_lexer": "ipython3",
   "version": "3.10.8"
  }
 },
 "nbformat": 4,
 "nbformat_minor": 5
}
