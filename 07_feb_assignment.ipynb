{
 "cells": [
  {
   "cell_type": "markdown",
   "id": "43108705-281e-4882-95a7-4c89d8d4ccae",
   "metadata": {},
   "source": [
    "Q1. You are writing code for a company. The requirement of the company is that you create a python\n",
    "function that will check whether the password entered by the user is correct or not. The function should\n",
    "take the password as input and return the string “Valid Password” if the entered password follows the\n",
    "below-given password guidelines else it should return “Invalid Password”.\n",
    "\n",
    "Note: 1. The Password should contain at least two uppercase letters and at least two lowercase letters.\n",
    "\n",
    "2. The Password should contain at least a number and three special characters.\n",
    "\n",
    "3. The length of the password should be 10 characters long."
   ]
  },
  {
   "cell_type": "code",
   "execution_count": 1,
   "id": "6168cebe-1a5f-45bb-87c3-589b5813bb45",
   "metadata": {},
   "outputs": [
    {
     "name": "stdin",
     "output_type": "stream",
     "text": [
      "Enter the password : ABab@#$14ry\n"
     ]
    },
    {
     "name": "stdout",
     "output_type": "stream",
     "text": [
      "Valid password\n"
     ]
    }
   ],
   "source": [
    "upp=0\n",
    "low=0\n",
    "spe=0\n",
    "dig=0\n",
    "password=input(\"Enter the password :\" )\n",
    "\n",
    "capital_=\"ABCDEFGHIJKLMNOPQRSTUVWXYZ\"\n",
    "lower_=\"abcdefghijklmnopqrstuvwxyz\"\n",
    "special_=\"!@#$%&\"\n",
    "digit_=\"0123456789\"\n",
    "if (len(password)>=10):\n",
    "    for i in password:\n",
    "        if (i in capital_):\n",
    "            upp=upp+1\n",
    "        if (i in lower_):\n",
    "            low=low+1\n",
    "        if (i in special_):\n",
    "            spe=spe+1\n",
    "        if (i in digit_):\n",
    "            dig=dig+1\n",
    "if (upp>=2 and low>=2 and spe>=3 and dig>=1 and upp+low+spe+dig==len(password)):\n",
    "    print(\"Valid password\")\n",
    "else:\n",
    "    print(\"Invalid password\")\n",
    "            \n",
    "    "
   ]
  },
  {
   "cell_type": "markdown",
   "id": "0b5ecd3b-651a-43ab-9769-61c33a51e1c8",
   "metadata": {},
   "source": [
    "Q2. Solve the below-given questions using at least one of the following:\n",
    "1. Lambda functioJ\n",
    "2. Filter functioJ\n",
    "3. Zap functioJ\n",
    "4. List ComprehensioI\n",
    "\n",
    "B Check if the string starts with a particular letter.\n",
    "\n",
    "B Check if the string is numeric.\n",
    "\n",
    "B Sort a list of tuples having fruit names and their quantity. [(\"mango\",99),(\"orange\",80), (\"grapes\", 1000)]\n",
    "\n",
    "B Find the squares of numbers from 1 to 10.\n",
    "\n",
    "B Find the cube root of numbers from 1 to 10.\n",
    "\n",
    "B Check if a given number is even.\n",
    "\n",
    "B Filter odd numbers from the given list.\n",
    "[1,2,3,4,5,6,7,8,9,10]\n",
    "\n",
    "B Sort a list of integers into positive and negative integers lists.\n",
    "[1,2,3,4,5,6,-1,-2,-3,-4,-5,0]"
   ]
  },
  {
   "cell_type": "code",
   "execution_count": 3,
   "id": "ce515b04-d388-4bf2-8c15-adebf762ba28",
   "metadata": {},
   "outputs": [
    {
     "name": "stdout",
     "output_type": "stream",
     "text": [
      "True\n"
     ]
    }
   ],
   "source": [
    "\n",
    "start_=lambda x:True if x.startswith('a') else False\n",
    "print(start_(\"abcdef\"))"
   ]
  },
  {
   "cell_type": "code",
   "execution_count": 24,
   "id": "dfec6741-3b7f-4dad-86a9-520054abfd42",
   "metadata": {},
   "outputs": [
    {
     "name": "stdout",
     "output_type": "stream",
     "text": [
      "False\n"
     ]
    }
   ],
   "source": [
    "check=lambda x:x.replace(\".\",\"-\").isdigit()\n",
    "print(check(\"-79.2713\"))"
   ]
  },
  {
   "cell_type": "code",
   "execution_count": 10,
   "id": "d0080fe2-4a2b-44a3-b888-82a964b5a900",
   "metadata": {},
   "outputs": [
    {
     "name": "stdout",
     "output_type": "stream",
     "text": [
      "[('orange', 80), ('mango', 99), ('grapes', 1000)]\n"
     ]
    }
   ],
   "source": [
    "l1=[(\"mango\",99),(\"orange\",80), (\"grapes\", 1000)]\n",
    "l1.sort(key=lambda x:x[1])\n",
    "print(l1)"
   ]
  },
  {
   "cell_type": "code",
   "execution_count": 12,
   "id": "f990b19a-78ab-499d-b0cf-2eefcfa5bfb5",
   "metadata": {},
   "outputs": [
    {
     "name": "stdout",
     "output_type": "stream",
     "text": [
      "[1, 4, 9, 16, 25, 36, 49, 64, 81]\n"
     ]
    }
   ],
   "source": [
    "def sqr_num(n):\n",
    "    return n*n\n",
    "nums=range(1,10)\n",
    "result=map(sqr_num,nums)\n",
    "print(list(result))\n",
    "    "
   ]
  },
  {
   "cell_type": "code",
   "execution_count": 17,
   "id": "bc374f4b-648a-4df5-8afe-3bbbcf9f23cf",
   "metadata": {},
   "outputs": [
    {
     "name": "stdout",
     "output_type": "stream",
     "text": [
      "[1.0, 1.2599210498948734, 1.4422495703074083, 1.5874010519681996, 1.7099759466766968, 1.8171205928321394, 1.9129311827723894, 2.0, 2.080083823051904]\n"
     ]
    }
   ],
   "source": [
    "import numpy as np\n",
    "l2=range(1,10)\n",
    "result=np.cbrt(l2)\n",
    "print(list(result))"
   ]
  },
  {
   "cell_type": "code",
   "execution_count": 26,
   "id": "9fbcba2a-c43f-48a7-980c-c2778ea788cc",
   "metadata": {},
   "outputs": [
    {
     "name": "stdout",
     "output_type": "stream",
     "text": [
      "even number\n"
     ]
    }
   ],
   "source": [
    "num=56\n",
    "result=lambda x: \"even number\" if num%2==0 else \"not a even number\"\n",
    "print(result(num))"
   ]
  },
  {
   "cell_type": "code",
   "execution_count": 42,
   "id": "70b4f729-4595-4d8e-9679-eff50f5e9975",
   "metadata": {},
   "outputs": [
    {
     "name": "stdout",
     "output_type": "stream",
     "text": [
      "[1, 3, 5, 7, 9]\n"
     ]
    }
   ],
   "source": [
    "def odd_num(n):\n",
    "    if n%2!=0:\n",
    "        return n\n",
    "nums=[1,2,3,4,5,6,7,8,9,10]\n",
    "result=filter(odd_num,nums)\n",
    "print(list(result))"
   ]
  },
  {
   "cell_type": "code",
   "execution_count": 48,
   "id": "b763118d-5421-4a41-89cb-6db6d4335651",
   "metadata": {},
   "outputs": [
    {
     "name": "stdout",
     "output_type": "stream",
     "text": [
      "[2, 3, 4, 5, 6, 0, 1]\n",
      "[-1, -5, -4, -3, -2]\n"
     ]
    }
   ],
   "source": [
    "l4=[1,2,3,4,5,6,-1,-2,-3,-4,-5,0]\n",
    "l4_pos=[]\n",
    "l4_neg=[]\n",
    "for i in l4:\n",
    "    if l4[i]>-1:\n",
    "        l4_pos.append(l4[i])\n",
    "    elif l4[i]<0:\n",
    "        l4_neg.append(l4[i])\n",
    "print(l4_pos)\n",
    "print(l4_neg)"
   ]
  },
  {
   "cell_type": "code",
   "execution_count": null,
   "id": "f45dbda9-4c87-4dec-b616-6b811072adaa",
   "metadata": {},
   "outputs": [],
   "source": []
  }
 ],
 "metadata": {
  "kernelspec": {
   "display_name": "Python 3 (ipykernel)",
   "language": "python",
   "name": "python3"
  },
  "language_info": {
   "codemirror_mode": {
    "name": "ipython",
    "version": 3
   },
   "file_extension": ".py",
   "mimetype": "text/x-python",
   "name": "python",
   "nbconvert_exporter": "python",
   "pygments_lexer": "ipython3",
   "version": "3.10.8"
  }
 },
 "nbformat": 4,
 "nbformat_minor": 5
}
