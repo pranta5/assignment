{
 "cells": [
  {
   "cell_type": "markdown",
   "id": "e01bd965-b5c6-4891-a0e9-1e237e407b01",
   "metadata": {},
   "source": [
    "Q1. Explain GET and POST methods."
   ]
  },
  {
   "cell_type": "markdown",
   "id": "be16478e-aa43-493e-833e-2092beaf4605",
   "metadata": {},
   "source": [
    "GET Method:\n",
    "The GET method is used to retrieve information from a server. When a web page is loaded, the browser sends a GET request to the server for the page's HTML, images, CSS, and other resources. The data sent through the GET request is appended to the URL as a query string, which consists of a key-value pair separated by an equals sign and multiple key-value pairs separated by an ampersand (&). Since the data is sent in the URL, the GET method has a limit on the amount of data that can be sent.\n",
    "\n",
    "\n",
    "POST Method:\n",
    "The POST method is used to send data to the server to create or update a resource. Unlike the GET method, the data sent through the POST method is not visible in the URL. Instead, the data is sent in the body of the request. The POST method is commonly used for form submissions, where a user inputs data, and that data is sent to the server for processing. Since the data is sent in the body of the request, there is no limit on the amount of data that can be sent."
   ]
  },
  {
   "cell_type": "code",
   "execution_count": null,
   "id": "cdb07f31-06a1-4a46-a85f-bd98b35dcfb7",
   "metadata": {},
   "outputs": [],
   "source": []
  },
  {
   "cell_type": "markdown",
   "id": "68d23f05-e9f9-4514-8a66-d696d46584f6",
   "metadata": {},
   "source": [
    "Q2. Why is request used in Flask?"
   ]
  },
  {
   "cell_type": "markdown",
   "id": "0e826833-d15f-4812-a06d-1a5004f308ef",
   "metadata": {},
   "source": [
    "In Flask, the request module is used to handle incoming HTTP requests from clients. It is a global object that contains information about the current request such as the request method (GET, POST, etc.), URL, headers, form data, query parameters, cookies, and more.\n",
    "\n",
    "Here are some common use cases for the request module in Flask:\n",
    "\n",
    "Retrieving form data: When a user submits a form on a web page, the form data is sent to the server as part of the request. The request module can be used to retrieve this data and process it on the server-side.\n",
    "\n",
    "Handling query parameters: Query parameters are key-value pairs that are appended to the end of a URL. They are commonly used to filter, sort, or paginate data. The request module can be used to extract query parameters from the request URL.\n",
    "\n",
    "Processing cookies: Cookies are small pieces of data that are stored on a client's browser and sent to the server with each subsequent request. The request module can be used to access and modify cookies sent with the current request.\n",
    "\n",
    "Handling file uploads: When a user uploads a file to a web application, the file data is sent as part of the request. The request module can be used to retrieve this data and save the uploaded file to the server."
   ]
  },
  {
   "cell_type": "code",
   "execution_count": null,
   "id": "f7d7ee79-21c0-42fb-98e8-a8dda7b7c54b",
   "metadata": {},
   "outputs": [],
   "source": []
  },
  {
   "cell_type": "markdown",
   "id": "7fc0f541-9bec-457e-9145-7a642e975291",
   "metadata": {},
   "source": [
    "Q3. Why is redirect() used in Flask?"
   ]
  },
  {
   "cell_type": "markdown",
   "id": "096a2502-b4b2-41b1-a1fb-2004ea99e6ef",
   "metadata": {},
   "source": [
    "The redirect() function in Flask is used to redirect the user to a different URL or endpoint. It is a built-in function in Flask that returns an HTTP response with a 302 status code, indicating that the requested resource has been temporarily moved to a new URL.\n",
    "\n",
    "Here are some common use cases for the redirect() function in Flask:\n",
    "\n",
    "Redirecting after a form submission: After a user submits a form on a web page, the redirect() function can be used to redirect the user to a different URL, such as a thank you page or a page displaying the submitted data.\n",
    "\n",
    "Redirecting after a successful login: After a user successfully logs into a web application, the redirect() function can be used to redirect the user to their account dashboard or a specific page within the application.\n",
    "\n",
    "Redirecting to handle errors: If an error occurs while processing a request, the redirect() function can be used to redirect the user to an error page or a page with more information about the error.\n",
    "\n",
    "Redirecting to handle unauthorized access: If a user tries to access a resource that requires authentication but is not logged in, the redirect() function can be used to redirect the user to the login page."
   ]
  },
  {
   "cell_type": "code",
   "execution_count": null,
   "id": "319ae077-7c69-439b-a6c4-050037bbdcb5",
   "metadata": {},
   "outputs": [],
   "source": []
  },
  {
   "cell_type": "markdown",
   "id": "08cb5853-5161-42d8-b5f0-464a2d58a4d5",
   "metadata": {},
   "source": [
    "Q4. What are templates in Flask? Why is the render_template() function used?"
   ]
  },
  {
   "cell_type": "markdown",
   "id": "579dcfcc-29eb-4307-89bd-d1c6e3930398",
   "metadata": {},
   "source": [
    "Templates in Flask are files that contain static HTML, along with dynamic content that is generated by the server-side code. Templates are used to create the structure and layout of web pages, while also allowing for dynamic data to be displayed in the appropriate places.\n",
    "\n",
    "\n",
    "Here are some common use cases for templates in Flask:\n",
    "\n",
    "Displaying dynamic data: Templates allow for dynamic data to be displayed on a web page, such as user profiles, search results, or product listings. The dynamic data is passed to the template from the server-side code using context variables.\n",
    "\n",
    "Creating reusable layouts: Templates can be used to create reusable layouts, such as a header, footer, or navigation bar. These layouts can be included in multiple pages, reducing the amount of redundant code.\n",
    "\n",
    "Generating emails: Templates can be used to generate HTML emails, which can include dynamic content such as personalized greetings, order confirmations, or account notifications.\n",
    "\n",
    "Customizing error pages: Templates can be used to create custom error pages, which provide more context and information to users when an error occurs on the server."
   ]
  },
  {
   "cell_type": "code",
   "execution_count": null,
   "id": "8561a158-6752-46e6-a4f0-eb19c24e2450",
   "metadata": {},
   "outputs": [],
   "source": []
  },
  {
   "cell_type": "markdown",
   "id": "7f02dd1b-43c2-4991-af65-1db680387996",
   "metadata": {},
   "source": [
    "Q5. Create a simple API. Use Postman to test it. Attach the screenshot of the output in the Jupyter Notebook."
   ]
  },
  {
   "cell_type": "code",
   "execution_count": null,
   "id": "b28ee6c7-0754-4877-8fd3-d97964bd1aa9",
   "metadata": {},
   "outputs": [],
   "source": [
    "from flask import Flask, jsonify\n",
    "\n",
    "app = Flask(__name__)\n",
    "\n",
    "@app.route('/hello',methods=['GET'])\n",
    "def hello():\n",
    "    return jsonify({'message': 'Hello, World!'})\n",
    "\n",
    "if __name__ == '__main__':\n",
    "    app.run(host='0.0.0.0')\n"
   ]
  },
  {
   "cell_type": "code",
   "execution_count": null,
   "id": "05dbb0a5-2fa1-4f6e-b93b-177e68efd625",
   "metadata": {},
   "outputs": [],
   "source": [
    "#unable to insert screenshots"
   ]
  }
 ],
 "metadata": {
  "kernelspec": {
   "display_name": "Python 3 (ipykernel)",
   "language": "python",
   "name": "python3"
  },
  "language_info": {
   "codemirror_mode": {
    "name": "ipython",
    "version": 3
   },
   "file_extension": ".py",
   "mimetype": "text/x-python",
   "name": "python",
   "nbconvert_exporter": "python",
   "pygments_lexer": "ipython3",
   "version": "3.10.8"
  }
 },
 "nbformat": 4,
 "nbformat_minor": 5
}
