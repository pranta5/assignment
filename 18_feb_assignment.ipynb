{
 "cells": [
  {
   "cell_type": "markdown",
   "id": "a98ca751-7677-41a1-b2ac-936c4f78773a",
   "metadata": {},
   "source": [
    "Q1. What is an API? Give an example, where an API is used in real life."
   ]
  },
  {
   "cell_type": "markdown",
   "id": "1aa973fc-cfd9-448b-9f6c-47953403f760",
   "metadata": {},
   "source": [
    "APIs are mechanisms that enable two software components to communicate with each other using a set of definitions and protocols. \n",
    "\n",
    "For example, the weather bureau’s software system contains daily weather data. The weather app on our phone “talks” to this system via APIs and shows us daily weather updates on our phone."
   ]
  },
  {
   "cell_type": "markdown",
   "id": "d6523e4d-067f-4b33-8287-1253710bdf3c",
   "metadata": {},
   "source": []
  },
  {
   "cell_type": "markdown",
   "id": "11a0bc82-85a9-49fa-8c51-7bb26c40026c",
   "metadata": {},
   "source": [
    "Q2. Give advantages and disadvantages of using API."
   ]
  },
  {
   "cell_type": "markdown",
   "id": "dee1561e-3844-469f-ae06-aa4dd01cecd1",
   "metadata": {},
   "source": [
    "Advantage :\n",
    "\n",
    "Flexibility: APIs enable software applications to communicate with each other, which allows developers to create more flexible, modular, and scalable applications.\n",
    "\n",
    "Integration: APIs simplify the process of integrating different applications and services, reducing the time and effort required to build new functionality.\n",
    "\n",
    "Efficiency: By using APIs, developers can avoid the need to build new functionality from scratch, saving time and resources.\n",
    "\n",
    "\n",
    "Diadvantage:\n",
    "\n",
    "Security risks: APIs can create security risks if they are not properly designed, implemented, and managed.\n",
    "\n",
    "Dependency: Applications that rely heavily on APIs may be vulnerable to service disruptions or changes in API functionality.\n",
    "\n",
    "Cost: APIs can be costly to develop and maintain, especially if they require significant resources or integration with third-party services."
   ]
  },
  {
   "cell_type": "code",
   "execution_count": null,
   "id": "a39248c9-9c71-4048-833a-1e648bfb3902",
   "metadata": {},
   "outputs": [],
   "source": []
  },
  {
   "cell_type": "markdown",
   "id": "9764a106-03ab-4b7a-8d8f-3d41f71ff9f6",
   "metadata": {},
   "source": [
    "Q3. What is a Web API? Differentiate between API and Web API."
   ]
  },
  {
   "cell_type": "markdown",
   "id": "3633ee16-05c3-46b3-975b-cdbf490a7307",
   "metadata": {},
   "source": [
    "Web API - A Web API is a way for software applications to interact with each other using standard web protocols, such as HTTP and HTTPS, and transfer data in a machine-readable format, such as JSON or XML.\n",
    "\n",
    "Differentiate between API and Web API\n",
    "\n",
    "API stands for Application Programming Interface, which is a set of programming instructions that allow different software systems to communicate with each other. APIs enable developers to access and use the functionality of another system, platform, or service in their own applications, without needing to know how that system works under the hood.\n",
    "\n",
    "A Web API, on the other hand, is an API that is specifically designed to be accessed over the internet via HTTP (Hypertext Transfer Protocol). It is a type of API that is exposed by web servers to allow external systems to access and interact with their resources and services over the web."
   ]
  },
  {
   "cell_type": "code",
   "execution_count": null,
   "id": "8f3aff6c-cdc6-46a3-b8af-e8545660641b",
   "metadata": {},
   "outputs": [],
   "source": []
  },
  {
   "cell_type": "markdown",
   "id": "838c28c2-fc08-46a4-b466-5eb827d01496",
   "metadata": {},
   "source": [
    "Q4.Explain REST and SOAP Architecture. Mention shortcomings of SOAP."
   ]
  },
  {
   "cell_type": "markdown",
   "id": "5520a7fe-83b2-4e11-bd8a-5451671cf1db",
   "metadata": {},
   "source": [
    "REST is an architectural style that emphasizes a uniform interface between components. It is based on the principles of the web, including the use of HTTP verbs (GET, POST, PUT, DELETE) to represent operations on resources and the use of URIs (Uniform Resource Identifiers) to identify resources. RESTful APIs generally use JSON or XML as the data format, and can be consumed by a wide range of clients, including web browsers, mobile devices, and other applications.\n",
    "\n",
    "\n",
    "SOAP, on the other hand, is a protocol that defines a set of rules for exchanging structured information between applications over a network. SOAP messages are XML-based and include a header and a body. The header contains information about the message, while the body contains the actual data being exchanged. SOAP services typically use WSDL (Web Services Description Language) to describe the interface and operations of the service.\n",
    "\n",
    "\n",
    "limitations or shortcomings of SOAP:\n",
    "\n",
    "Complexity: SOAP is considered a complex protocol that requires a lot of effort and expertise to implement.\n",
    "\n",
    "Slow performance: Because SOAP is an XML-based protocol, it can be slower compared to other protocols such as REST (Representational State Transfer).\n",
    "\n",
    "Limited support for different data formats: SOAP is designed primarily for exchanging XML-based messages. While it is possible to use other data formats, such as JSON, with SOAP, it requires additional effort and can be cumbersome.\n",
    "\n",
    "Limited browser support: SOAP is not natively supported by most web browsers, so it can be challenging to use it for client-side applications. This limitation makes it less suitable for web-based applications."
   ]
  },
  {
   "cell_type": "code",
   "execution_count": null,
   "id": "6e268255-3cc2-4d5f-ab0f-2e503d4b6062",
   "metadata": {},
   "outputs": [],
   "source": []
  },
  {
   "cell_type": "markdown",
   "id": "00e98e76-4684-45ea-8e15-e8ac9e637a90",
   "metadata": {},
   "source": [
    "Q5.Differentiate between REST and SOAP."
   ]
  },
  {
   "cell_type": "markdown",
   "id": "11740fbf-6330-4ad3-a5df-d5a372934cdb",
   "metadata": {},
   "source": [
    "REST (Representational State Transfer) is an architectural style that uses the HTTP protocol to transfer data between systems. RESTful APIs use HTTP methods (GET, POST, PUT, DELETE) to perform operations on resources identified by URLs. RESTful APIs can return data in a variety of formats, including JSON and XML. REST is often considered more lightweight and flexible than SOAP, making it easier to implement and scale.\n",
    "\n",
    "\n",
    "SOAP (Simple Object Access Protocol) is a messaging protocol that uses XML to transfer data between systems. SOAP APIs use the HTTP protocol to transport messages, but the actual content of the message is in XML format. SOAP APIs often have a more complex structure than RESTful APIs, with a predefined set of operations that can be performed on the data. SOAP is typically used in enterprise-level applications that require more advanced security and reliability features."
   ]
  },
  {
   "cell_type": "code",
   "execution_count": null,
   "id": "d1a9bfe6-0926-4897-b43f-5d893db19fd6",
   "metadata": {},
   "outputs": [],
   "source": []
  }
 ],
 "metadata": {
  "kernelspec": {
   "display_name": "Python 3 (ipykernel)",
   "language": "python",
   "name": "python3"
  },
  "language_info": {
   "codemirror_mode": {
    "name": "ipython",
    "version": 3
   },
   "file_extension": ".py",
   "mimetype": "text/x-python",
   "name": "python",
   "nbconvert_exporter": "python",
   "pygments_lexer": "ipython3",
   "version": "3.10.8"
  }
 },
 "nbformat": 4,
 "nbformat_minor": 5
}
