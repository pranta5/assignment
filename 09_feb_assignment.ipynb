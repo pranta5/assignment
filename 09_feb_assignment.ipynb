{
 "cells": [
  {
   "cell_type": "markdown",
   "id": "a49bf36c-0ec0-486f-9c53-057345ba07ae",
   "metadata": {},
   "source": [
    "Q1, Create a vehicle class with an init method having instance variables as name_of_vehicle, max_speed\n",
    "and average_of_vehicle."
   ]
  },
  {
   "cell_type": "code",
   "execution_count": 7,
   "id": "60f4044f-e4cf-4fc0-822d-c04b9c3a1fae",
   "metadata": {},
   "outputs": [
    {
     "name": "stdout",
     "output_type": "stream",
     "text": [
      "first vehicle detalies: naxon\n",
      "second vehicle detalis: punch\n"
     ]
    }
   ],
   "source": [
    "class vehicle:\n",
    "    def __init__(self,name_of_vehicle,max_speed,average_of_vehicle):\n",
    "        #instance variable\n",
    "        self.name_of_vehicle=name_of_vehicle\n",
    "        self.max_speed=max_speed\n",
    "        self.average_of_vehicle=average_of_vehicle\n",
    "        \n",
    "#first object\n",
    "vehicle1=vehicle(\"naxon\",120,15)\n",
    "#second object\n",
    "vehicle2=vehicle(\"punch\",100,19)\n",
    "print(\"first vehicle detalies:\",vehicle1.name_of_vehicle)\n",
    "print(\"second vehicle detalis:\",vehicle2.name_of_vehicle)"
   ]
  },
  {
   "cell_type": "code",
   "execution_count": null,
   "id": "b5421790-a72e-49bd-a6c7-e0c35135fd53",
   "metadata": {},
   "outputs": [],
   "source": []
  },
  {
   "cell_type": "markdown",
   "id": "acbebe22-9814-48f5-b2cd-d38b61217e98",
   "metadata": {},
   "source": [
    "Q2. Create a child class car from the vehicle class created in Que 1, which will inherit the vehicle class.\n",
    "Create a method named seating_capacity which takes capacity as an argument and returns the name of\n",
    "the vehicle and its seating capacity."
   ]
  },
  {
   "cell_type": "code",
   "execution_count": 11,
   "id": "787f1b96-12dd-42b7-9e24-88c4e9f174ad",
   "metadata": {},
   "outputs": [
    {
     "name": "stdout",
     "output_type": "stream",
     "text": [
      "naxon has a capacity of 5 person\n"
     ]
    }
   ],
   "source": [
    "class car(vehicle):\n",
    "    def seating_capacity(capacity):\n",
    "        print(vehicle1.name_of_vehicle,\"has a capacity of\",capacity,\"person\" )\n",
    "car.seating_capacity(5)"
   ]
  },
  {
   "cell_type": "code",
   "execution_count": null,
   "id": "b29ea73c-4620-40a4-84af-627e6ae4e002",
   "metadata": {},
   "outputs": [],
   "source": []
  },
  {
   "cell_type": "markdown",
   "id": "dcacab22-e031-4790-adb5-3968737da0ab",
   "metadata": {},
   "source": [
    "What is multiple inheritance? Write a python code to demonstrate multiple inheritance."
   ]
  },
  {
   "cell_type": "markdown",
   "id": "fb575bac-a144-4c85-89d6-17bada2061c1",
   "metadata": {},
   "source": [
    "When a class is derived from more than one base class it is called multiple Inheritance."
   ]
  },
  {
   "cell_type": "code",
   "execution_count": 20,
   "id": "15d94937-50e5-4e18-b6b2-500d76bea739",
   "metadata": {},
   "outputs": [
    {
     "name": "stdout",
     "output_type": "stream",
     "text": [
      "in class1\n",
      "in class2\n",
      "in class3\n"
     ]
    }
   ],
   "source": [
    "class class1:\n",
    "    def m1(self):\n",
    "        print(\"in class1\")\n",
    "class class2:\n",
    "    def m2(self):\n",
    "        print(\"in class2\")\n",
    "class class3(class1,class2):\n",
    "    def m3(self):\n",
    "        print(\"in class3\")\n",
    "    \n",
    "obj_3=class3()\n",
    "obj_3.m1()\n",
    "obj_3.m2()\n",
    "obj_3.m3()\n"
   ]
  },
  {
   "cell_type": "markdown",
   "id": "f8bd3d02-c750-4343-b03a-d166ff2a94d9",
   "metadata": {},
   "source": [
    "Q4. What are getter and setter in python? Create a class and create a getter and a setter method in this\n",
    "class."
   ]
  },
  {
   "cell_type": "markdown",
   "id": "afb8d539-6b11-4300-897b-8cfbc118d22c",
   "metadata": {},
   "source": [
    "that are used to get and set the values of private attributes of an object.\n",
    "Getter methods are used to get the value of an attribute, and setter methods are used to set the value of an attribute.\n"
   ]
  },
  {
   "cell_type": "code",
   "execution_count": 24,
   "id": "6df55c14-1629-44c4-aef6-55ed8cad021d",
   "metadata": {},
   "outputs": [
    {
     "name": "stdout",
     "output_type": "stream",
     "text": [
      "10\n"
     ]
    }
   ],
   "source": [
    "class MyClass:\n",
    "    def __init__(self):\n",
    "        self.__attribute = None\n",
    "\n",
    "    def get_attribute(self):\n",
    "        return self.__attribute\n",
    "\n",
    "    def set_attribute(self, value):\n",
    "        self.__attribute = value\n",
    "obj = MyClass()\n",
    "obj.set_attribute(10)\n",
    "print(obj.get_attribute())\n"
   ]
  },
  {
   "cell_type": "code",
   "execution_count": null,
   "id": "fa97f8d2-6f99-4d85-9838-ea187150e34c",
   "metadata": {},
   "outputs": [],
   "source": []
  },
  {
   "cell_type": "markdown",
   "id": "64046d89-7c14-4877-ae16-ceebbe8a3e7d",
   "metadata": {},
   "source": [
    "Q5.What is method overriding in python? Write a python code to demonstrate method overriding."
   ]
  },
  {
   "cell_type": "markdown",
   "id": "b744fbce-7659-46c5-acd0-47b3ee4f4589",
   "metadata": {},
   "source": [
    "method overriding refers to the ability of a subclass to provide a different implementation of a method that is already defined in its superclass. When a subclass provides its own implementation of a method that is already defined in its superclass, it overrides the implementation of the superclass method."
   ]
  },
  {
   "cell_type": "code",
   "execution_count": 28,
   "id": "8ebec59e-c87b-49e5-9003-17eaddca6c1a",
   "metadata": {},
   "outputs": [
    {
     "name": "stdout",
     "output_type": "stream",
     "text": [
      "The dog barks\n"
     ]
    }
   ],
   "source": [
    "class Animal:\n",
    "    def speak(self):\n",
    "        print(\"The animal speaks\")\n",
    "\n",
    "class Dog(Animal):\n",
    "    def speak(self):\n",
    "        print(\"The dog barks\")\n",
    "dog = Dog()\n",
    "dog.speak() \n"
   ]
  },
  {
   "cell_type": "code",
   "execution_count": null,
   "id": "edeec272-8f0b-4ad3-9804-7e555b4245e7",
   "metadata": {},
   "outputs": [],
   "source": []
  }
 ],
 "metadata": {
  "kernelspec": {
   "display_name": "Python 3 (ipykernel)",
   "language": "python",
   "name": "python3"
  },
  "language_info": {
   "codemirror_mode": {
    "name": "ipython",
    "version": 3
   },
   "file_extension": ".py",
   "mimetype": "text/x-python",
   "name": "python",
   "nbconvert_exporter": "python",
   "pygments_lexer": "ipython3",
   "version": "3.10.8"
  }
 },
 "nbformat": 4,
 "nbformat_minor": 5
}
