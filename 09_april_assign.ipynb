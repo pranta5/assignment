{
 "cells": [
  {
   "cell_type": "markdown",
   "id": "e785d19e-978d-433a-b497-24521a34aa8f",
   "metadata": {},
   "source": [
    "# Q1. What is Bayes' theorem?"
   ]
  },
  {
   "cell_type": "markdown",
   "id": "c4a60b65-ddca-4eb9-ac6a-7a69193813fe",
   "metadata": {},
   "source": [
    "Bayes' theorem, is a fundamental principle in probability theory and statistics. \n",
    "It provides a way to update our beliefs about a hypothesis based on new evidence or information. \n"
   ]
  },
  {
   "cell_type": "markdown",
   "id": "7852776f-bbf7-4f9e-91cb-4f3320b94ccd",
   "metadata": {},
   "source": [
    "# Q2. What is the formula for Bayes' theorem?"
   ]
  },
  {
   "cell_type": "markdown",
   "id": "f847ed65-7cd7-462a-8ba5-b4e864b6b58d",
   "metadata": {},
   "source": [
    "The theorem is expressed mathematically as follows:\n",
    "\n",
    "P(A/B)= (P(A).P(B/A)) / P(B)\n"
   ]
  },
  {
   "cell_type": "markdown",
   "id": "d0010853-c4bb-41ab-b036-683feb2cf450",
   "metadata": {},
   "source": [
    "# Q3. How is Bayes' theorem used in practice?"
   ]
  },
  {
   "cell_type": "markdown",
   "id": "bbbf39a9-5cab-45b8-bbfe-d9b1287107b0",
   "metadata": {},
   "source": [
    "\n",
    "Bayes' theorem is used in  -\n",
    "\n",
    "- Medical Diagnosis\n",
    "- Spam Filtering\n",
    "- Language Processing"
   ]
  },
  {
   "cell_type": "markdown",
   "id": "f6d4aff2-df20-438f-94ac-788a6367d80a",
   "metadata": {},
   "source": [
    "# Q4. What is the relationship between Bayes' theorem and conditional probability?"
   ]
  },
  {
   "cell_type": "markdown",
   "id": "6ec5cd80-5864-4665-b688-ed9b30a3bbb5",
   "metadata": {},
   "source": [
    "Bayes' theorem and conditional probability are closely related, though they serve different purposes:\n",
    "\n",
    "Conditional probability deals with the likelihood of one event happening given that another event has already occurred. It answers questions like \"What is the probability of getting a flat tire on the way to work given that it's raining?\" or \"What is the probability of drawing a red card from a deck if you know it's not a spade?\"\n",
    "\n",
    "Bayes' theorem builds upon conditional probability and takes it a step further. It allows you to update your initial beliefs about an event (hypothesis) based on new evidence you receive. In other words, it helps you refine your understanding of a situation using the latest information."
   ]
  },
  {
   "cell_type": "markdown",
   "id": "89067680-167f-4b9f-9c1d-43247b587f81",
   "metadata": {
    "tags": []
   },
   "source": [
    "# Q5. How do you choose which type of Naive Bayes classifier to use for any given problem?"
   ]
  },
  {
   "cell_type": "markdown",
   "id": "ec5d9af4-c9e7-4427-8d88-b8be9b9e0aae",
   "metadata": {},
   "source": [
    "The choice of Naive Bayes classifier depends on the nature of your data. Here are the three types of Naive Bayes models and when to use them:\n",
    "\n",
    "Gaussian Naive Bayes: This is used when the features have continuous values that are assumed to be distributed according to a Gaussian (normal) distribution.\n",
    "\n",
    "Multinomial Naive Bayes: This is used for discrete data. For example, it is used in text classification where the data are typically represented as word frequency or word count vectors.\n",
    "\n",
    "Bernoulli Naive Bayes: This is used when your features are binary or boolean (i.e., True/False or 0/1)."
   ]
  },
  {
   "cell_type": "code",
   "execution_count": null,
   "id": "084dfc00-ab46-488c-9155-ade69c7391be",
   "metadata": {},
   "outputs": [],
   "source": []
  }
 ],
 "metadata": {
  "kernelspec": {
   "display_name": "Python 3 (ipykernel)",
   "language": "python",
   "name": "python3"
  },
  "language_info": {
   "codemirror_mode": {
    "name": "ipython",
    "version": 3
   },
   "file_extension": ".py",
   "mimetype": "text/x-python",
   "name": "python",
   "nbconvert_exporter": "python",
   "pygments_lexer": "ipython3",
   "version": "3.10.8"
  }
 },
 "nbformat": 4,
 "nbformat_minor": 5
}
