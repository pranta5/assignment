{
 "cells": [
  {
   "cell_type": "markdown",
   "id": "fbdcf72f-c213-478a-afa6-4bae9e3d736f",
   "metadata": {},
   "source": [
    "Q1. Which function is used to open a file? What are the different modes of opening a file? Explain each mode of file opening."
   ]
  },
  {
   "cell_type": "markdown",
   "id": "2d3aef7c-0e57-41a7-bb00-15c25a5df3d8",
   "metadata": {},
   "source": [
    "the built-in function open() to open a file.\n",
    "\n",
    "file = open(\"filename.txt\", \"r\")\n",
    "\n",
    "\n",
    "the different modes of opening a file-\n",
    "\n",
    "\"r\" (Read mode): Opens the file for reading. The file pointer is placed at the beginning of the file, and if the file doesn't exist, an error is raised.\n",
    "\n",
    "\"w\" (Write mode): Opens the file for writing. If the file already exists, it is truncated to zero length. If the file doesn't exist, a new file is created.\n",
    "\n",
    "\"a\" (Append mode): Opens the file for writing in append mode. The file pointer is placed at the end of the file, and if the file doesn't exist, a new file is created.\n",
    "\n",
    "\"x\" (Exclusive creation mode): Creates a new file and opens it for writing. If the file already exists, an error is raised.\n",
    "\n",
    "\"b\" (Binary mode): Opens the file in binary mode, which is used for non-text files like images and sound files.\n",
    "\n",
    "\"t\" (Text mode): Opens the file in text mode, which is used for text files.\n",
    "\n",
    "\"+\" (Read and write mode): Opens the file for both reading and writing. This is useful for updating existing files.\n",
    "\n",
    "\"rb\" for reading a binary file."
   ]
  },
  {
   "cell_type": "code",
   "execution_count": null,
   "id": "937e3b3c-e3ef-4a75-8ed5-ecb3996877e9",
   "metadata": {},
   "outputs": [],
   "source": []
  },
  {
   "cell_type": "markdown",
   "id": "ad8c67ee-9479-4f25-9a7c-cc7b001425b5",
   "metadata": {},
   "source": [
    "Q2. Why close() function is used? Why is it important to close a file?"
   ]
  },
  {
   "cell_type": "markdown",
   "id": "0838f642-01b9-473c-a9ed-49926309df57",
   "metadata": {},
   "source": [
    "The close() function is used to close a file that was opened using the open() function.\n",
    "\n",
    "when a file is opened, it consumes system resources such as memory and file handles to maintain the connection between the program and the file. If the file is not closed properly, these system resources will continue to be used, which can cause issues with other programs that may want to access the file and may also result in data loss or corruption."
   ]
  },
  {
   "cell_type": "code",
   "execution_count": null,
   "id": "ded1eb3c-7e4a-44be-9f2b-283a9c8a43f3",
   "metadata": {},
   "outputs": [],
   "source": []
  },
  {
   "cell_type": "markdown",
   "id": "0244a07d-f871-4d59-a79c-1ebc4273b1f5",
   "metadata": {},
   "source": [
    "Q3. Write a python program to create a text file. Write ‘I want to become a Data Scientist’ in that file. Then close the file. Open this file and read the content of the file."
   ]
  },
  {
   "cell_type": "code",
   "execution_count": 1,
   "id": "26ece112-7178-4efb-b3eb-0cd92a0228db",
   "metadata": {},
   "outputs": [],
   "source": [
    "f=open(\"test.txt\",\"w\")\n",
    "f.write(\" i want to become a data scientist\")\n",
    "f.close()"
   ]
  },
  {
   "cell_type": "code",
   "execution_count": 2,
   "id": "ee31bba4-1f1e-47fe-87bf-3eff3fe781a5",
   "metadata": {},
   "outputs": [
    {
     "name": "stdout",
     "output_type": "stream",
     "text": [
      " i want to become a data scientist\n"
     ]
    }
   ],
   "source": [
    "f=open(\"test.txt\",\"r\")\n",
    "result=f.read()\n",
    "print(result)\n",
    "f.close()"
   ]
  },
  {
   "cell_type": "code",
   "execution_count": null,
   "id": "93d30d19-8f22-46d2-9e75-4e8a12ab56f3",
   "metadata": {},
   "outputs": [],
   "source": []
  },
  {
   "cell_type": "markdown",
   "id": "9d04abe4-39c8-4596-a954-fd8c61389850",
   "metadata": {},
   "source": [
    "Q4. Explain the following with python code: read(), readline() and readlines()."
   ]
  },
  {
   "cell_type": "code",
   "execution_count": 14,
   "id": "97e0c6e9-715a-4641-9301-b0b5a4f763f0",
   "metadata": {},
   "outputs": [],
   "source": [
    "f1=open(\"test1.txt\",\"w\")\n",
    "f1.write(\" i want to become a data scientist. \")\n",
    "f1.write(\"now i am pursuing mca .\")\n",
    "f1.write(\"also take online course from pwskills.\")\n",
    "f1.close()"
   ]
  },
  {
   "cell_type": "code",
   "execution_count": 15,
   "id": "0b43fd00-fb2b-4b09-9fe0-bdfdb2157828",
   "metadata": {},
   "outputs": [
    {
     "name": "stdout",
     "output_type": "stream",
     "text": [
      " i want to become a data scientist. now i am pursuing mca .also take online course from pwskills.\n"
     ]
    }
   ],
   "source": [
    "f1=open(\"test1.txt\",\"r\")\n",
    "read1=f1.read()\n",
    "print(read1)\n",
    "f1.close()"
   ]
  },
  {
   "cell_type": "code",
   "execution_count": 16,
   "id": "aaaff652-2e79-476a-b7f1-2b0657c7aaa7",
   "metadata": {},
   "outputs": [
    {
     "name": "stdout",
     "output_type": "stream",
     "text": [
      " i want to become a data scientist. now i am pursuing mca .also take online course from pwskills.\n"
     ]
    }
   ],
   "source": [
    "f1=open(\"test1.txt\",\"r\")\n",
    "read2=f1.readline()\n",
    "while read2:\n",
    "    print(read2)\n",
    "    read2=f1.readline()\n",
    "f1.close()"
   ]
  },
  {
   "cell_type": "code",
   "execution_count": 17,
   "id": "18bc29fc-07e4-4590-8ba7-924aedfe8d7d",
   "metadata": {},
   "outputs": [
    {
     "name": "stdout",
     "output_type": "stream",
     "text": [
      " i want to become a data scientist. now i am pursuing mca .also take online course from pwskills.\n"
     ]
    }
   ],
   "source": [
    "f1=open(\"test1.txt\",\"r\")\n",
    "read3=f1.readlines()\n",
    "for i in read3:\n",
    "    print(i)\n",
    "f1.close()"
   ]
  },
  {
   "cell_type": "code",
   "execution_count": null,
   "id": "b3df12f0-0ca4-4f52-8a05-92111db073a5",
   "metadata": {},
   "outputs": [],
   "source": []
  },
  {
   "cell_type": "markdown",
   "id": "65526d55-c63b-41ff-9bce-139d9ba1b38d",
   "metadata": {},
   "source": [
    "Q5. Explain why with statement is used with open(). What is the advantage of using with statement and open() together?"
   ]
  },
  {
   "cell_type": "markdown",
   "id": "8b0ad7ed-f643-4354-8c7b-3b8b2dd459fd",
   "metadata": {},
   "source": [
    "When the with statement is used with the open() function, it automatically calls the close() method on the file object at the end of the block, even if an exception is raised. This means that the file will be closed automatically, regardless of whether the block of code executes successfully or not.\n",
    "\n",
    "with open(\"example.txt\", \"r\") as file:\n",
    "    contents = file.read()\n",
    "    print(contents)\n",
    "\n",
    "It guarantees that the file is closed: If you open a file and forget to close it, the file remains open and locks the resources. This can lead to memory leaks and errors when you try to open the file again, or if another program tries to access the file. By using the with statement, the file is guaranteed to be closed, regardless of how the program exits the block of code that uses the file.\n",
    "\n",
    "It's more concise: Using the with statement and the open() function together is a more concise way to handle file I/O operations in Python. It removes the need to explicitly call the close() method on the file object, which can help to make the code cleaner and easier to read."
   ]
  },
  {
   "cell_type": "code",
   "execution_count": null,
   "id": "329a174e-8d93-4577-a7e9-c8aa3d63e36b",
   "metadata": {},
   "outputs": [],
   "source": []
  },
  {
   "cell_type": "markdown",
   "id": "b44746cb-316e-4bfb-a3da-1a06f9ac4a96",
   "metadata": {},
   "source": [
    "Q6.Explain the write() and writelines() functions. Give a suitable example."
   ]
  },
  {
   "cell_type": "markdown",
   "id": "eb14470c-af3d-4990-ae87-201392766c33",
   "metadata": {},
   "source": [
    "The write() and writelines() functions are used to write data to a file in Python."
   ]
  },
  {
   "cell_type": "code",
   "execution_count": 18,
   "id": "e1882012-8627-4fb8-8cbb-5ffd1ce3f06d",
   "metadata": {},
   "outputs": [],
   "source": [
    "with open(\"example.txt\", \"w\") as file:\n",
    "    file.write(\"Hello, world!\\n\")\n",
    "    file.write(\"This is an example file.\\n\")\n"
   ]
  },
  {
   "cell_type": "code",
   "execution_count": 21,
   "id": "aa08adae-b904-4edf-89d9-a6a885e4bab2",
   "metadata": {},
   "outputs": [],
   "source": [
    "with open(\"example.txt\", \"w\") as file:\n",
    "    lines = [\"Hello, world!\\n\", \"This is an example file.\\n\"]\n",
    "    file.writelines(lines)\n",
    "    "
   ]
  },
  {
   "cell_type": "code",
   "execution_count": null,
   "id": "f448007f-45ee-4ac9-a61b-f74c5c2150a6",
   "metadata": {},
   "outputs": [],
   "source": []
  }
 ],
 "metadata": {
  "kernelspec": {
   "display_name": "Python 3 (ipykernel)",
   "language": "python",
   "name": "python3"
  },
  "language_info": {
   "codemirror_mode": {
    "name": "ipython",
    "version": 3
   },
   "file_extension": ".py",
   "mimetype": "text/x-python",
   "name": "python",
   "nbconvert_exporter": "python",
   "pygments_lexer": "ipython3",
   "version": "3.10.8"
  }
 },
 "nbformat": 4,
 "nbformat_minor": 5
}
