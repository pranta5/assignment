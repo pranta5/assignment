{
 "cells": [
  {
   "cell_type": "markdown",
   "id": "4b13ffb0-a342-475f-bcbf-b01a0d6fdb48",
   "metadata": {},
   "source": [
    "#Q1. Explain Class and Object with respect to Object-#Oriented Programming. Give a suitable example??\n",
    "\n",
    "Class is just a classification of realworld entity.\n",
    "it is consider as a blueprint of object.\n",
    " we can think of the class as a sketch of a bike.it contains all the details about the model,color,gear, etc.based on the description we identify bike .bike is the object.\n",
    "we can create many object from a class.\n",
    "An object is called an instance of a class.\n"
   ]
  },
  {
   "cell_type": "markdown",
   "id": "76c56d28-0ee5-4ec7-999e-24e1f2348571",
   "metadata": {},
   "source": [
    "#Q2. Name the four pillars of OOPs.\n",
    "\n",
    "Four pillars of OOPs:\n",
    "    Inheritance, \n",
    "    Polymorphism, \n",
    "    Encapsulation ,\n",
    "    Abstraction"
   ]
  },
  {
   "cell_type": "markdown",
   "id": "402f4848-e866-417d-ab14-a42dd6445ba6",
   "metadata": {},
   "source": [
    "#Q3. Explain why the __init__() function is used. Give a #suitable example.\n",
    "\n",
    "The __init__() function is used to assign values to object properties or other operation that are necessary to do when the object is being created."
   ]
  },
  {
   "cell_type": "code",
   "execution_count": 1,
   "id": "4ac7da00-1f8c-4c20-9d69-980a1aac6ee4",
   "metadata": {},
   "outputs": [
    {
     "name": "stdout",
     "output_type": "stream",
     "text": [
      "pranta 24\n"
     ]
    }
   ],
   "source": [
    "class person:\n",
    "    def __init__(self,name,age):\n",
    "        self.first_name=name\n",
    "        self.Age=age\n",
    "person1=person(\"pranta\",24)\n",
    "print(person1.first_name,person1.Age)"
   ]
  },
  {
   "cell_type": "markdown",
   "id": "93a515c2-0043-4227-a96d-969f92fa4c75",
   "metadata": {},
   "source": [
    "#Q4. Why self is used in OOPs?\n",
    "\n",
    "The self parameter is a reference to the current instance of the class , and is used to access variable that belongs to the class. "
   ]
  },
  {
   "cell_type": "markdown",
   "id": "5b590ad8-e89d-49f2-85cd-80b04f0077cf",
   "metadata": {},
   "source": [
    "#Q5. What is inheritance? Give an example for each type #of inheritance.\n",
    "\n",
    "inheritance allows us to define a class that methods and properties from another class ."
   ]
  },
  {
   "cell_type": "code",
   "execution_count": 10,
   "id": "a5449ad1-702f-40b1-b1bb-3e985f8a9045",
   "metadata": {},
   "outputs": [
    {
     "data": {
      "text/plain": [
       "' this is class1'"
      ]
     },
     "execution_count": 10,
     "metadata": {},
     "output_type": "execute_result"
    }
   ],
   "source": [
    "#single\n",
    "class class1:\n",
    "    def test_class1(self):\n",
    "        return \" this is class1\"\n",
    "class class2(class1):\n",
    "    pass\n",
    "obj_class2=class2()\n",
    "obj_class2.test_class1()"
   ]
  },
  {
   "cell_type": "code",
   "execution_count": 11,
   "id": "2bc46b37-77bf-4c26-9200-657e3f210ce4",
   "metadata": {},
   "outputs": [
    {
     "data": {
      "text/plain": [
       "' this is class1'"
      ]
     },
     "execution_count": 11,
     "metadata": {},
     "output_type": "execute_result"
    }
   ],
   "source": [
    "#multilevel\n",
    "class class1:\n",
    "    def test_class1(self):\n",
    "        return \" this is class1\"\n",
    "class class2(class1):\n",
    "    def test_class2(self):\n",
    "        return \" this is class2\"\n",
    "class class3(class2):\n",
    "    pass\n",
    "obj_class3=class3()\n",
    "obj_class3.test_class1()"
   ]
  },
  {
   "cell_type": "code",
   "execution_count": 5,
   "id": "5b0b860c-d9f9-4d4a-bd0f-a170ffe293f2",
   "metadata": {},
   "outputs": [
    {
     "data": {
      "text/plain": [
       "' this is class2'"
      ]
     },
     "execution_count": 5,
     "metadata": {},
     "output_type": "execute_result"
    }
   ],
   "source": [
    "obj_class3.test_class2()"
   ]
  },
  {
   "cell_type": "code",
   "execution_count": 12,
   "id": "a067d0c7-b2e4-4530-b8d5-0ab487ac4bf2",
   "metadata": {},
   "outputs": [
    {
     "data": {
      "text/plain": [
       "' this is class1'"
      ]
     },
     "execution_count": 12,
     "metadata": {},
     "output_type": "execute_result"
    }
   ],
   "source": [
    "#multiple\n",
    "class class1:\n",
    "    def test_class1(self):\n",
    "        return \" this is class1\"\n",
    "class class2:\n",
    "    def test_class2(self):\n",
    "        return \" this is class2\"\n",
    "class class3(class1,class2):\n",
    "    pass\n",
    "obj_class3=class3()\n",
    "obj_class3.test_class1()"
   ]
  },
  {
   "cell_type": "code",
   "execution_count": 9,
   "id": "de13d847-4980-4311-a478-51e921104dc3",
   "metadata": {},
   "outputs": [
    {
     "data": {
      "text/plain": [
       "' this is class2'"
      ]
     },
     "execution_count": 9,
     "metadata": {},
     "output_type": "execute_result"
    }
   ],
   "source": [
    "obj_class3.test_class2()"
   ]
  },
  {
   "cell_type": "code",
   "execution_count": 16,
   "id": "3120f615-1565-43cd-a033-95d00e1e47d9",
   "metadata": {},
   "outputs": [
    {
     "name": "stdout",
     "output_type": "stream",
     "text": [
      "this is parent class\n",
      "this is parent class\n"
     ]
    }
   ],
   "source": [
    "#hierarchical\n",
    "class parent:\n",
    "    def test_parent(self):\n",
    "        print(\"this is parent class\")\n",
    "class child1(parent):\n",
    "    def test_child1(self):\n",
    "        print(\"this is child1\")\n",
    "class child2(parent):\n",
    "    def test_child2(self):\n",
    "        print(\"this is child2\")\n",
    "obj_child1=child1()\n",
    "obj_child2=child2()\n",
    "obj_child1.test_parent()\n",
    "obj_child2.test_parent()"
   ]
  },
  {
   "cell_type": "code",
   "execution_count": null,
   "id": "413dee3f-87f3-4581-b51e-2d98fa99725b",
   "metadata": {},
   "outputs": [],
   "source": []
  }
 ],
 "metadata": {
  "kernelspec": {
   "display_name": "Python 3 (ipykernel)",
   "language": "python",
   "name": "python3"
  },
  "language_info": {
   "codemirror_mode": {
    "name": "ipython",
    "version": 3
   },
   "file_extension": ".py",
   "mimetype": "text/x-python",
   "name": "python",
   "nbconvert_exporter": "python",
   "pygments_lexer": "ipython3",
   "version": "3.10.8"
  }
 },
 "nbformat": 4,
 "nbformat_minor": 5
}
