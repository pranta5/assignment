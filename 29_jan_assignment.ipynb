{
 "cells": [
  {
   "cell_type": "code",
   "execution_count": 1,
   "id": "e9052c7d-39c5-4f02-bbf2-de5588a8db23",
   "metadata": {},
   "outputs": [
    {
     "ename": "SyntaxError",
     "evalue": "invalid syntax (32458526.py, line 2)",
     "output_type": "error",
     "traceback": [
      "\u001b[0;36m  Cell \u001b[0;32mIn[1], line 2\u001b[0;36m\u001b[0m\n\u001b[0;31m    -Guidon van Rossum\u001b[0m\n\u001b[0m            ^\u001b[0m\n\u001b[0;31mSyntaxError\u001b[0m\u001b[0;31m:\u001b[0m invalid syntax\n"
     ]
    }
   ],
   "source": [
    "1.Who developed Python Programming Language?\n",
    "-Guidon van Rossum\n",
    "2. Which type of Programming does Python support? \n",
    "-Object-oriented programming and structured programming are fully supported.\n",
    "3. Is Python case sensitive when dealing with identifiers? \n",
    "-yes,python is a case-sensitive language.\n",
    "4. What is the correct extension of the Python file? \n",
    "-.py, .pyi\n",
    "5. Is Python code compiled or interpreted? \n",
    "-python is an interpreted language.\n",
    "6. Name a few blocks of code used to define in Python language? \n",
    "-Indentation is used to define a block of code in python.\n",
    "7. State a character used to give single-line comments in Python? \n",
    "-#\n",
    "8. Mention functions which can help us to find the version of python that we are currently working on? \n",
    "-import sys\n",
    "sys.version\n",
    "9. Python supports the creation of anonymous functions at runtime, using a construct called \n",
    "-lambda\n",
    "10. What does pip stand for python? \n",
    "-preferred installer program.\n",
    "11. Mention a few built-in functions in python? \n",
    "-print(),type(),input(),abs(),pow(),max().....\n",
    "12. What is the maximum possible length of an identifier in Python? \n",
    "-79 characters\n",
    "13. What are the benefits of using Python? \n",
    "-wide range of use cases.\n",
    "-extensive libraries.\n",
    "14. How is memory managed in Python? \n",
    "-Memory management in Python involves a private heap containing all Python objects and data structures.\n",
    "The management of this private heap is ensured internally by the Python memory manager.\n",
    "15. How to install Python on Windows and set path variables?\n",
    "-download file from python.org and install.\n",
    " path set:\n",
    "    Right-clicking This PC and going to Properties.\n",
    "\n",
    "Clicking on the Advanced system settings in the menu on the left.\n",
    "\n",
    "Clicking on the Environment Variables button on the bottom right.\n",
    "\n",
    "In the System variables section, selecting the Path variable and clicking on Edit.\n",
    " The next screen will show all the directories that are currently a part of the PATH variable.\n",
    "\n",
    "Clicking on New and entering Python’s install directory.\n",
    " 16. Is indentation required in python? \n",
    "    -indentation is mandatory in python.\n",
    "\n"
   ]
  },
  {
   "cell_type": "code",
   "execution_count": 3,
   "id": "9e38ef8b-7b84-457c-bb0f-52026596a67b",
   "metadata": {},
   "outputs": [
    {
     "data": {
      "text/plain": [
       "'3.10.8 | packaged by conda-forge | (main, Nov 22 2022, 08:26:04) [GCC 10.4.0]'"
      ]
     },
     "execution_count": 3,
     "metadata": {},
     "output_type": "execute_result"
    }
   ],
   "source": [
    "import sys\n",
    "sys.version"
   ]
  },
  {
   "cell_type": "code",
   "execution_count": null,
   "id": "bc43363c-029a-4784-abe7-f7f53ecbd64e",
   "metadata": {},
   "outputs": [],
   "source": []
  }
 ],
 "metadata": {
  "kernelspec": {
   "display_name": "Python 3 (ipykernel)",
   "language": "python",
   "name": "python3"
  },
  "language_info": {
   "codemirror_mode": {
    "name": "ipython",
    "version": 3
   },
   "file_extension": ".py",
   "mimetype": "text/x-python",
   "name": "python",
   "nbconvert_exporter": "python",
   "pygments_lexer": "ipython3",
   "version": "3.10.8"
  }
 },
 "nbformat": 4,
 "nbformat_minor": 5
}
