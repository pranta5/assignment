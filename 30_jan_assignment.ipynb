{
 "cells": [
  {
   "cell_type": "code",
   "execution_count": 5,
   "id": "a4d6aeef-783c-447a-a079-0ad2b52e080b",
   "metadata": {},
   "outputs": [
    {
     "name": "stdin",
     "output_type": "stream",
     "text": [
      "Enter the marks:  59\n"
     ]
    },
    {
     "name": "stdout",
     "output_type": "stream",
     "text": [
      "D\n"
     ]
    }
   ],
   "source": [
    "marks=int(input(\"Enter the marks: \"))\n",
    "if marks>90:\n",
    "    print(\"A\")\n",
    "elif marks>80 and marks<=90:\n",
    "    print(\"B\")\n",
    "elif marks>=60 and marks<=80:\n",
    "    print(\"C\")\n",
    "else:\n",
    "    print(\"D\")"
   ]
  },
  {
   "cell_type": "code",
   "execution_count": 11,
   "id": "5aae7ec0-9960-459b-bc5c-c7c6474804c3",
   "metadata": {},
   "outputs": [
    {
     "name": "stdin",
     "output_type": "stream",
     "text": [
      "Enter the price:  120000\n"
     ]
    },
    {
     "name": "stdout",
     "output_type": "stream",
     "text": [
      "road tax :  18000.0\n"
     ]
    }
   ],
   "source": [
    "cost=float(input(\"Enter the price: \"))\n",
    "if cost>100000:\n",
    "    print(\"road tax : \",cost*.15)\n",
    "elif cost>50000 and cost<=100000:\n",
    "    print(\"road tax :\",cost*.1)\n",
    "elif cost<=50000:\n",
    "    print(\"road tax :\",cost*.05)\n",
    "else:\n",
    "    print(\"enter proper input\")\n",
    "    "
   ]
  },
  {
   "cell_type": "code",
   "execution_count": 17,
   "id": "1334b7f6-f086-40ab-ac40-ab0259cd64e8",
   "metadata": {},
   "outputs": [
    {
     "name": "stdin",
     "output_type": "stream",
     "text": [
      "Enter city name: Delhi\n"
     ]
    },
    {
     "name": "stdout",
     "output_type": "stream",
     "text": [
      "Red Fort\n"
     ]
    }
   ],
   "source": [
    "city={\"Delhi\":\"Red Fort\",\"Agra\":\"Taj Mahal\",\"Jaipur\":\"Jal Mahal\"}\n",
    "x=input(\"Enter city name:\")\n",
    "print(city[x])"
   ]
  },
  {
   "cell_type": "code",
   "execution_count": 1,
   "id": "a8c8b729-2c01-47c4-93c3-cfe45d32fd7f",
   "metadata": {},
   "outputs": [
    {
     "name": "stdout",
     "output_type": "stream",
     "text": [
      "0\n",
      "1\n",
      "2\n",
      "3\n",
      "4\n",
      "5\n"
     ]
    }
   ],
   "source": [
    "#5.In python while loop is used to run a block code until a certain condition is met.\n",
    "i=0\n",
    "x=5\n",
    "while i<=x:\n",
    "    print(i)\n",
    "    i=i+1"
   ]
  },
  {
   "cell_type": "code",
   "execution_count": 10,
   "id": "53aa80e8-f458-4b41-b885-2052c184ce81",
   "metadata": {},
   "outputs": [
    {
     "name": "stdout",
     "output_type": "stream",
     "text": [
      "1 \n",
      "1 2 \n",
      "1 2 3 \n"
     ]
    }
   ],
   "source": [
    "i=1\n",
    "while i<=3:\n",
    "    j=1\n",
    "    while j<=i:\n",
    "        print(j,end=\" \")\n",
    "        j=j+1\n",
    "    print(\"\")\n",
    "    i=i+1"
   ]
  },
  {
   "cell_type": "code",
   "execution_count": 11,
   "id": "eb00bc43-6f9c-477e-b3d0-88c19054fc53",
   "metadata": {},
   "outputs": [
    {
     "name": "stdout",
     "output_type": "stream",
     "text": [
      "10\n",
      "9\n",
      "8\n",
      "7\n",
      "6\n",
      "5\n",
      "4\n",
      "3\n",
      "2\n",
      "1\n"
     ]
    }
   ],
   "source": [
    "i=10\n",
    "while i>0:\n",
    "    print(i)\n",
    "    i=i-1"
   ]
  },
  {
   "cell_type": "code",
   "execution_count": null,
   "id": "fc54960a-1c73-4a19-824d-694c2cdebcff",
   "metadata": {},
   "outputs": [],
   "source": []
  }
 ],
 "metadata": {
  "kernelspec": {
   "display_name": "Python 3 (ipykernel)",
   "language": "python",
   "name": "python3"
  },
  "language_info": {
   "codemirror_mode": {
    "name": "ipython",
    "version": 3
   },
   "file_extension": ".py",
   "mimetype": "text/x-python",
   "name": "python",
   "nbconvert_exporter": "python",
   "pygments_lexer": "ipython3",
   "version": "3.10.8"
  }
 },
 "nbformat": 4,
 "nbformat_minor": 5
}
