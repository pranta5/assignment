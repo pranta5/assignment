{
 "cells": [
  {
   "cell_type": "code",
   "execution_count": 1,
   "id": "50991160-2e83-4535-a8d5-7e326a5bd28e",
   "metadata": {},
   "outputs": [],
   "source": [
    "import numpy as np\n",
    "list_ = [ '1' , '2' , '3' , '4' , '5' ]\n",
    "array_list = np.array(object = list_)"
   ]
  },
  {
   "cell_type": "markdown",
   "id": "0ef77ea5-ba99-45ea-aa1a-a6648d97a273",
   "metadata": {},
   "source": [
    "Q1. Is there any difference in the data type of variables list_ and array_list? If there is then write a code\n",
    "to print the data types of both the variables."
   ]
  },
  {
   "cell_type": "code",
   "execution_count": 2,
   "id": "b0e3c5a0-f157-44f7-9eb6-724405878e94",
   "metadata": {},
   "outputs": [
    {
     "data": {
      "text/plain": [
       "list"
      ]
     },
     "execution_count": 2,
     "metadata": {},
     "output_type": "execute_result"
    }
   ],
   "source": [
    "type(list_)"
   ]
  },
  {
   "cell_type": "code",
   "execution_count": 3,
   "id": "b4e8e872-6765-4774-a592-a5ccc40fe457",
   "metadata": {},
   "outputs": [
    {
     "data": {
      "text/plain": [
       "numpy.ndarray"
      ]
     },
     "execution_count": 3,
     "metadata": {},
     "output_type": "execute_result"
    }
   ],
   "source": [
    "type(array_list)"
   ]
  },
  {
   "cell_type": "markdown",
   "id": "8f717870-0711-498f-94f7-2f7ebf320c94",
   "metadata": {},
   "source": [
    "Q2. Write a code to print the data type of each and every element of both the variables list_ and\n",
    "arra_list."
   ]
  },
  {
   "cell_type": "code",
   "execution_count": 4,
   "id": "83b8b9d7-0911-40e9-b40f-6d363863b13c",
   "metadata": {},
   "outputs": [
    {
     "name": "stdout",
     "output_type": "stream",
     "text": [
      "<class 'str'>\n",
      "<class 'str'>\n",
      "<class 'str'>\n",
      "<class 'str'>\n",
      "<class 'str'>\n"
     ]
    }
   ],
   "source": [
    "for e in list_:\n",
    "    print(type(e))"
   ]
  },
  {
   "cell_type": "code",
   "execution_count": 5,
   "id": "68a4cb6c-056b-4e78-aa6e-6d2ca060a770",
   "metadata": {},
   "outputs": [
    {
     "name": "stdout",
     "output_type": "stream",
     "text": [
      "<class 'numpy.str_'>\n",
      "<class 'numpy.str_'>\n",
      "<class 'numpy.str_'>\n",
      "<class 'numpy.str_'>\n",
      "<class 'numpy.str_'>\n"
     ]
    }
   ],
   "source": [
    "for e in array_list:\n",
    "    print(type(e))"
   ]
  },
  {
   "cell_type": "code",
   "execution_count": 6,
   "id": "8402f1c7-14e1-409e-ab83-0da63589ec28",
   "metadata": {},
   "outputs": [],
   "source": [
    "array_list = np.array(object = list_, dtype = int)"
   ]
  },
  {
   "cell_type": "markdown",
   "id": "c4e236c8-3c70-42e0-8619-db291fc6a60f",
   "metadata": {},
   "source": [
    "Will there be any difference in the data type of the elements present in both the variables, list_ and\n",
    "arra_list? If so then print the data types of each and every element present in both the variables, list_\n",
    "and arra_list."
   ]
  },
  {
   "cell_type": "code",
   "execution_count": 7,
   "id": "4986d486-ce01-4483-80c4-8afb043e4d08",
   "metadata": {},
   "outputs": [
    {
     "name": "stdout",
     "output_type": "stream",
     "text": [
      "<class 'str'>\n",
      "<class 'str'>\n",
      "<class 'str'>\n",
      "<class 'str'>\n",
      "<class 'str'>\n"
     ]
    }
   ],
   "source": [
    "for e in list_:\n",
    "    print(type(e))"
   ]
  },
  {
   "cell_type": "code",
   "execution_count": 8,
   "id": "9f6d78a4-78ee-4b90-addd-cb95cbbf4ec9",
   "metadata": {},
   "outputs": [
    {
     "name": "stdout",
     "output_type": "stream",
     "text": [
      "<class 'numpy.int64'>\n",
      "<class 'numpy.int64'>\n",
      "<class 'numpy.int64'>\n",
      "<class 'numpy.int64'>\n",
      "<class 'numpy.int64'>\n"
     ]
    }
   ],
   "source": [
    "for e in array_list:\n",
    "    print(type(e))"
   ]
  },
  {
   "cell_type": "code",
   "execution_count": 9,
   "id": "4db87123-5b65-48e3-8499-5df1e3d8611b",
   "metadata": {},
   "outputs": [],
   "source": [
    "import numpy as np\n",
    "num_list = [ [ 1 , 2 , 3 ] , [ 4 , 5 , 6 ] ]\n",
    "num_array = np.array(object = num_list)"
   ]
  },
  {
   "cell_type": "markdown",
   "id": "bedf4074-c0f2-4ed4-8de8-cece97148530",
   "metadata": {},
   "source": [
    "Q4. Write a code to find the following characteristics of variable, num_array:\n",
    "(i) shape\n",
    "(ii) size"
   ]
  },
  {
   "cell_type": "code",
   "execution_count": 10,
   "id": "92e1d4c4-d8ab-4644-9733-9dfa2242be82",
   "metadata": {},
   "outputs": [
    {
     "data": {
      "text/plain": [
       "6"
      ]
     },
     "execution_count": 10,
     "metadata": {},
     "output_type": "execute_result"
    }
   ],
   "source": [
    "np.size(num_array)"
   ]
  },
  {
   "cell_type": "code",
   "execution_count": 11,
   "id": "00db7200-f302-4586-a63a-aadca010a90f",
   "metadata": {},
   "outputs": [
    {
     "data": {
      "text/plain": [
       "(2, 3)"
      ]
     },
     "execution_count": 11,
     "metadata": {},
     "output_type": "execute_result"
    }
   ],
   "source": [
    "np.shape(num_array)"
   ]
  },
  {
   "cell_type": "markdown",
   "id": "e43fcda4-170f-4682-9505-56fe6df6498e",
   "metadata": {},
   "source": [
    "Q5. Write a code to create numpy array of 3*3 matrix containing zeros only, using a numpy array\n",
    "creation function."
   ]
  },
  {
   "cell_type": "code",
   "execution_count": 13,
   "id": "46c2a8ce-4865-4893-894e-c4522d92cb5f",
   "metadata": {},
   "outputs": [],
   "source": [
    "import numpy as np\n",
    "np_array=np.array([[0,0,0],[0,0,0],[0,0,0]])"
   ]
  },
  {
   "cell_type": "code",
   "execution_count": 14,
   "id": "6fcb9b67-f9bb-4725-a165-2656232e4827",
   "metadata": {},
   "outputs": [
    {
     "data": {
      "text/plain": [
       "9"
      ]
     },
     "execution_count": 14,
     "metadata": {},
     "output_type": "execute_result"
    }
   ],
   "source": [
    "np.size(np_array)"
   ]
  },
  {
   "cell_type": "code",
   "execution_count": 15,
   "id": "ee0a4a91-f19f-44a2-a65e-28b2eec1fff4",
   "metadata": {},
   "outputs": [
    {
     "data": {
      "text/plain": [
       "(3, 3)"
      ]
     },
     "execution_count": 15,
     "metadata": {},
     "output_type": "execute_result"
    }
   ],
   "source": [
    "np.shape(np_array)"
   ]
  },
  {
   "cell_type": "markdown",
   "id": "d8637657-9c51-409d-ba24-0750818a2e77",
   "metadata": {},
   "source": [
    "Q6. Create an identity matrix of shape (5,5) using numpy functions?"
   ]
  },
  {
   "cell_type": "code",
   "execution_count": 18,
   "id": "bbb5e41e-1b05-4383-a230-390fce093ebe",
   "metadata": {},
   "outputs": [],
   "source": [
    "import numpy as np\n",
    "ide_matrix=np.identity((5))"
   ]
  },
  {
   "cell_type": "code",
   "execution_count": 19,
   "id": "1498d048-bb5f-4bfd-9049-213bd62aa98f",
   "metadata": {},
   "outputs": [
    {
     "data": {
      "text/plain": [
       "array([[1., 0., 0., 0., 0.],\n",
       "       [0., 1., 0., 0., 0.],\n",
       "       [0., 0., 1., 0., 0.],\n",
       "       [0., 0., 0., 1., 0.],\n",
       "       [0., 0., 0., 0., 1.]])"
      ]
     },
     "execution_count": 19,
     "metadata": {},
     "output_type": "execute_result"
    }
   ],
   "source": [
    "ide_matrix"
   ]
  },
  {
   "cell_type": "code",
   "execution_count": null,
   "id": "07553683-b080-480c-809f-9b1d64366e40",
   "metadata": {},
   "outputs": [],
   "source": []
  }
 ],
 "metadata": {
  "kernelspec": {
   "display_name": "Python 3 (ipykernel)",
   "language": "python",
   "name": "python3"
  },
  "language_info": {
   "codemirror_mode": {
    "name": "ipython",
    "version": 3
   },
   "file_extension": ".py",
   "mimetype": "text/x-python",
   "name": "python",
   "nbconvert_exporter": "python",
   "pygments_lexer": "ipython3",
   "version": "3.10.8"
  }
 },
 "nbformat": 4,
 "nbformat_minor": 5
}
