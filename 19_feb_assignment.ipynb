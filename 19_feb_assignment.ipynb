{
 "cells": [
  {
   "cell_type": "markdown",
   "id": "bb643c6e-a577-490e-ab61-cef451813b43",
   "metadata": {},
   "source": [
    "Q1. What is Flask Framework? What are the advantages of Flask Framework?"
   ]
  },
  {
   "cell_type": "markdown",
   "id": "d86c5e99-78cc-4dd1-9ba8-8a1bb5309ef4",
   "metadata": {},
   "source": [
    "Flask is a lightweight web application framework written in Python. It is designed to be simple and easy to use, while still providing the flexibility and scalability needed for building complex web applications.\n",
    "\n",
    "Some advantages of using Flask include:\n",
    "\n",
    "Lightweight: Flask is a minimalistic framework with a small codebase, making it easy to learn and use. It has fewer dependencies than other frameworks, which means it can be used in a variety of environments.\n",
    "\n",
    "Flexibility: Flask provides a lot of flexibility in terms of how you structure your application, as well as how you interact with databases and other libraries. It doesn't impose any particular architecture on your application, allowing you to use your preferred design patterns.\n",
    "\n",
    "Easy to learn: Flask is easy to learn for developers who are familiar with Python. Its simple syntax and intuitive API make it a popular choice for building web applications.\n",
    "\n",
    "Extensible: Flask is highly extensible, with a large number of extensions available to add extra functionality to your application. These extensions cover a wide range of areas, from database integration to authentication and authorization."
   ]
  },
  {
   "cell_type": "code",
   "execution_count": null,
   "id": "871ce557-f28c-4428-ad23-b15fe1d29cd5",
   "metadata": {},
   "outputs": [],
   "source": []
  },
  {
   "cell_type": "markdown",
   "id": "965e08dd-4c6b-4328-8c26-edd80f292c31",
   "metadata": {},
   "source": [
    "Q2. Create a simple Flask application to display ‘Hello World!!’. Attach the screenshot of the output in\n",
    "Jupyter Notebook."
   ]
  },
  {
   "cell_type": "code",
   "execution_count": null,
   "id": "f9cb80e0-72f9-454c-bdd8-4e5616bd769a",
   "metadata": {},
   "outputs": [],
   "source": [
    "from flask import Flask\n",
    "app=Flask(__name__)\n",
    "@app.route(\"/\")\n",
    "def hello_world():\n",
    "    return(\"hello world!!\")\n",
    "if __name__==\"__main__\":\n",
    "    app.run(host=\"0.0.0.0\")\n"
   ]
  },
  {
   "cell_type": "code",
   "execution_count": null,
   "id": "cf2558c5-1965-43ef-9fac-fa9d5114b4c8",
   "metadata": {},
   "outputs": [],
   "source": []
  },
  {
   "cell_type": "markdown",
   "id": "ccf85219-61d9-47f2-b79b-834c389c5d2e",
   "metadata": {},
   "source": [
    "Q3. What is App routing in Flask? Why do we use app routes?"
   ]
  },
  {
   "cell_type": "markdown",
   "id": "fb2ed5b9-638c-4630-876a-127fd8292eef",
   "metadata": {},
   "source": [
    "In Flask, app routing refers to the process of mapping a URL or web address to a specific function or view in the application. This is done using the @app.route decorator in Flask.\n",
    "\n",
    "\n",
    "We use app routes in Flask for several reasons, including:\n",
    "\n",
    "Organizing code: App routing allows us to organize our application code into distinct views or functions that are responsible for handling specific URLs.\n",
    "\n",
    "Separating concerns: By separating our application code into distinct views or functions, we can more easily separate concerns and ensure that our application code is modular and maintainable.\n",
    "\n"
   ]
  },
  {
   "cell_type": "code",
   "execution_count": null,
   "id": "c2934196-ed17-44c3-9633-a542fd3c06ef",
   "metadata": {},
   "outputs": [],
   "source": []
  },
  {
   "cell_type": "markdown",
   "id": "341e7709-8a3e-40a6-9d65-a7257d4aa319",
   "metadata": {},
   "source": [
    "Q4. Create a “/welcome” route to display the welcome message “Welcome to ABC Corporation” and a “/”\n",
    "route to show the following details:\n",
    "Company Name: ABC Corporation\n",
    "Location: India\n",
    "Contact Detail: 999-999-9999"
   ]
  },
  {
   "cell_type": "code",
   "execution_count": null,
   "id": "b9d94d43-9285-4abc-b144-d34a75809c87",
   "metadata": {},
   "outputs": [],
   "source": [
    "\n",
    "from flask import Flask\n",
    "app=Flask(__name__)\n",
    "@app.route(\"/\")\n",
    "def detalis():\n",
    "    return(\"Company Name: ABC Corporation <br>Location: India <br>Contact Detail: 999-999-9999\")\n",
    "\n",
    "@app.route(\"/welcome\")\n",
    "def welcome():\n",
    "    return(\"Welcome to ABC Corporation\")\n",
    "\n",
    "if __name__==\"__main__\":\n",
    "    app.run(host=\"0.0.0.0\")\n"
   ]
  },
  {
   "cell_type": "markdown",
   "id": "04a103cf-6698-4470-a51a-38114de0b24c",
   "metadata": {},
   "source": [
    "unable to insert screenshots"
   ]
  },
  {
   "cell_type": "markdown",
   "id": "df33bbf6-4bb2-4154-b396-3b0f718b0ff5",
   "metadata": {},
   "source": [
    "Q5. What function is used in Flask for URL Building? Write a Python code to demonstrate the working of the\n",
    "url_for() function."
   ]
  },
  {
   "cell_type": "markdown",
   "id": "d10e6312-d05a-4962-ace0-01a7726a68d7",
   "metadata": {},
   "source": [
    "\n",
    "The url_for() function is used in Flask for URL building.\n"
   ]
  },
  {
   "cell_type": "code",
   "execution_count": null,
   "id": "eecb3b4a-2b41-4db1-af40-b0cd18e1d6b0",
   "metadata": {},
   "outputs": [],
   "source": [
    "from flask import Flask, url_for\n",
    "\n",
    "app = Flask(__name__)\n",
    "\n",
    "@app.route('/')\n",
    "def index():\n",
    "    return 'Hello, World!'\n",
    "\n",
    "@app.route('/user/<username>')\n",
    "def profile(username):\n",
    "    return f'Hello, {username}!'\n",
    "\n",
    "with app.test_request_context():\n",
    "    print(url_for('index'))\n",
    "    print(url_for('profile', username='pranta')) \n",
    "\n",
    "if __name__==\"__main__\":\n",
    "    app.run(host=\"0.0.0.0\")"
   ]
  },
  {
   "cell_type": "code",
   "execution_count": null,
   "id": "aaef7661-54d8-47ed-b1f9-d1ea76239af8",
   "metadata": {},
   "outputs": [],
   "source": []
  }
 ],
 "metadata": {
  "kernelspec": {
   "display_name": "Python 3 (ipykernel)",
   "language": "python",
   "name": "python3"
  },
  "language_info": {
   "codemirror_mode": {
    "name": "ipython",
    "version": 3
   },
   "file_extension": ".py",
   "mimetype": "text/x-python",
   "name": "python",
   "nbconvert_exporter": "python",
   "pygments_lexer": "ipython3",
   "version": "3.10.8"
  }
 },
 "nbformat": 4,
 "nbformat_minor": 5
}
