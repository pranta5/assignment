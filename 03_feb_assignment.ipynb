{
 "cells": [
  {
   "cell_type": "markdown",
   "id": "e28e3e49-2878-4507-8894-8db4080a98f3",
   "metadata": {},
   "source": [
    "1.def keyword is used to create a function"
   ]
  },
  {
   "cell_type": "code",
   "execution_count": 7,
   "id": "5c6065ba-ef98-4a03-83fe-94654a53a40d",
   "metadata": {},
   "outputs": [
    {
     "name": "stdout",
     "output_type": "stream",
     "text": [
      "2\n",
      "4\n",
      "6\n",
      "8\n",
      "10\n",
      "12\n",
      "14\n",
      "16\n",
      "18\n",
      "20\n",
      "22\n",
      "24\n"
     ]
    }
   ],
   "source": [
    "#Create a function to return a list of odd numbers in the\n",
    "#range of 1 to 25.\n",
    "numbers=range(1,25)\n",
    "def find_odd(numbers):\n",
    "    for i in numbers:\n",
    "        if i%2==0:\n",
    "            print(i)\n",
    "find_odd(numbers)    \n",
    "        "
   ]
  },
  {
   "cell_type": "markdown",
   "id": "b3e1b173-1ff6-458d-b7f1-43d3bb0c9e20",
   "metadata": {},
   "source": [
    "2.*args -non keyword arguments and **kwargs -keyword arguments\n",
    "we use *args and **kwargs as an argument when we are unsure about the number of arguments to pass in the function."
   ]
  },
  {
   "cell_type": "code",
   "execution_count": 10,
   "id": "d051557e-d391-4fbd-a77f-2f76e3b716ee",
   "metadata": {},
   "outputs": [
    {
     "name": "stdout",
     "output_type": "stream",
     "text": [
      "14\n"
     ]
    }
   ],
   "source": [
    "def add_values(*args):\n",
    "    sum1=0\n",
    "    for i in args:\n",
    "        sum1=sum1+i\n",
    "    print(sum1)\n",
    "add_values(4,5,5)"
   ]
  },
  {
   "cell_type": "code",
   "execution_count": 15,
   "id": "98f47004-36b5-47d3-9730-925a7f85f201",
   "metadata": {},
   "outputs": [
    {
     "name": "stdout",
     "output_type": "stream",
     "text": [
      "{'name': 'pranta', 'age': 20, 'phone': 123456}\n"
     ]
    }
   ],
   "source": [
    "def details(**kwargs):\n",
    "    print(kwargs)\n",
    "details(name=\"pranta\",age=20,phone=123456)"
   ]
  },
  {
   "cell_type": "markdown",
   "id": "a66ead67-6c74-4323-abd0-93980482adbb",
   "metadata": {},
   "source": [
    "#3.An iterator is an object that contains a countable number of values."
   ]
  },
  {
   "cell_type": "markdown",
   "id": "b7f5e999-9334-436b-b62b-2c1641d8fa7c",
   "metadata": {},
   "source": [
    "iter() method used to initialise the iterator object.\n",
    "next() method used for iteration."
   ]
  },
  {
   "cell_type": "code",
   "execution_count": 23,
   "id": "879865dc-7b47-4697-a67a-82f3a9c1fe7d",
   "metadata": {},
   "outputs": [
    {
     "name": "stdout",
     "output_type": "stream",
     "text": [
      "2\n",
      "4\n",
      "6\n",
      "8\n",
      "10\n"
     ]
    }
   ],
   "source": [
    "list1=[2, 4, 6, 8, 10, 12, 14,16, 18, 20]\n",
    "iterator1=iter(list1)\n",
    "print(next(iterator1))\n",
    "print(next(iterator1))\n",
    "print(next(iterator1))\n",
    "print(next(iterator1))\n",
    "print(next(iterator1))"
   ]
  },
  {
   "cell_type": "markdown",
   "id": "85b90558-e590-4a6f-a7c5-6229623ecb8e",
   "metadata": {},
   "source": [
    "4.python generator functions allow you to declare a function that behaves like an iterator ,allowing programmers to make an iterator in a fast ,easy and clean way."
   ]
  },
  {
   "cell_type": "markdown",
   "id": "0cb1f6b1-531d-4ffb-b723-b7fb011e4177",
   "metadata": {},
   "source": [
    "yield keyword is used to create a generator function."
   ]
  },
  {
   "cell_type": "code",
   "execution_count": 30,
   "id": "50144ef7-bda5-4bd4-a99e-77d692762f6e",
   "metadata": {},
   "outputs": [
    {
     "name": "stdout",
     "output_type": "stream",
     "text": [
      "0\n",
      "1\n",
      "1\n",
      "2\n",
      "3\n",
      "5\n",
      "8\n"
     ]
    }
   ],
   "source": [
    "def fib_series(limit):\n",
    "    a,b=0,1\n",
    "    while a<limit:\n",
    "        yield a \n",
    "        a,b=b,a+b\n",
    "for i in fib_series(10):\n",
    "    print(i)"
   ]
  },
  {
   "cell_type": "code",
   "execution_count": 31,
   "id": "723efb30-ac89-45a2-b6b4-7aa6e024e878",
   "metadata": {},
   "outputs": [
    {
     "name": "stdout",
     "output_type": "stream",
     "text": [
      "2 3 5 7 11 13 17 19 23 29 "
     ]
    }
   ],
   "source": [
    "#5\n",
    "def isprime(num):\n",
    "    for i in range(2,num):\n",
    "        if num%i==0:\n",
    "            return False\n",
    "    return True\n",
    "def primegenerator(n):\n",
    "    num=2\n",
    "    while n:\n",
    "        if isprime(num):\n",
    "            yield num\n",
    "            n=n-1\n",
    "        num=num+1\n",
    "    return\n",
    "it=primegenerator(10)\n",
    "for e in it:\n",
    "    print(e,end=\" \")"
   ]
  },
  {
   "cell_type": "code",
   "execution_count": 22,
   "id": "c2c2a514-a713-4c7c-9d4e-5bf4f8b273ed",
   "metadata": {},
   "outputs": [
    {
     "name": "stdin",
     "output_type": "stream",
     "text": [
      "enter the number  10\n"
     ]
    },
    {
     "name": "stdout",
     "output_type": "stream",
     "text": [
      "0\n",
      "1\n",
      "1\n",
      "2\n",
      "3\n",
      "5\n",
      "8\n",
      "13\n",
      "21\n",
      "34\n",
      "55\n"
     ]
    }
   ],
   "source": [
    "#6\n",
    "limit=int(input(\"enter the number \"))\n",
    "a,b=0,1\n",
    "count=0\n",
    "while count<=limit:\n",
    "    print(a)\n",
    "    c=a+b\n",
    "    a=b\n",
    "    b=c\n",
    "    count=count+1\n"
   ]
  },
  {
   "cell_type": "code",
   "execution_count": 3,
   "id": "db24334c-596e-4b63-9841-950c00d4e9fe",
   "metadata": {},
   "outputs": [
    {
     "name": "stdout",
     "output_type": "stream",
     "text": [
      "['p', 'w', 's', 'k', 'i', 'l', 'l', 's']\n"
     ]
    }
   ],
   "source": [
    "#7\n",
    "string=\"pwskills\"\n",
    "l1=[]\n",
    "for i in string:\n",
    "    l1.append(i)\n",
    "print(l1)"
   ]
  },
  {
   "cell_type": "code",
   "execution_count": 2,
   "id": "f95fab76-4ef0-4668-a02e-f70f382faac7",
   "metadata": {},
   "outputs": [
    {
     "name": "stdin",
     "output_type": "stream",
     "text": [
      "enter the number:  1331\n"
     ]
    },
    {
     "name": "stdout",
     "output_type": "stream",
     "text": [
      "palindrome number\n"
     ]
    }
   ],
   "source": [
    "#8\n",
    "n=int(input(\"enter the number: \"))\n",
    "temp=n\n",
    "rev=0\n",
    "while n>0:\n",
    "    remin=n%10\n",
    "    rev=rev*10+remin\n",
    "    n=n//10\n",
    "if rev==temp:\n",
    "    print(\"palindrome number\")\n",
    "else:\n",
    "    print(\"not a palindrome number\")"
   ]
  },
  {
   "cell_type": "code",
   "execution_count": 1,
   "id": "65b244f6-0acd-45c2-92f3-0bf038e7195c",
   "metadata": {},
   "outputs": [
    {
     "name": "stdout",
     "output_type": "stream",
     "text": [
      "[2, 4, 6, 8, 10, 12, 14, 16, 18, 20, 22, 24, 26, 28, 30, 32, 34, 36, 38, 40, 42, 44, 46, 48, 50, 52, 54, 56, 58, 60, 62, 64, 66, 68, 70, 72, 74, 76, 78, 80, 82, 84, 86, 88, 90, 92, 94, 96, 98]\n"
     ]
    }
   ],
   "source": [
    "#9\n",
    "number=range(1,100)\n",
    "lt1=[]\n",
    "for i in number:\n",
    "    if i%2==0:\n",
    "        lt1.append(i)\n",
    "print(lt1)"
   ]
  },
  {
   "cell_type": "code",
   "execution_count": null,
   "id": "9c9549f4-6535-49b8-8892-299e606c5654",
   "metadata": {},
   "outputs": [],
   "source": []
  }
 ],
 "metadata": {
  "kernelspec": {
   "display_name": "Python 3 (ipykernel)",
   "language": "python",
   "name": "python3"
  },
  "language_info": {
   "codemirror_mode": {
    "name": "ipython",
    "version": 3
   },
   "file_extension": ".py",
   "mimetype": "text/x-python",
   "name": "python",
   "nbconvert_exporter": "python",
   "pygments_lexer": "ipython3",
   "version": "3.10.8"
  }
 },
 "nbformat": 4,
 "nbformat_minor": 5
}
