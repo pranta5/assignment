{
 "cells": [
  {
   "cell_type": "markdown",
   "id": "0341b818-80c6-461c-b107-faced7e75990",
   "metadata": {},
   "source": [
    "Q1. What is a database? Differentiate between SQL and NoSQL databases."
   ]
  },
  {
   "cell_type": "markdown",
   "id": "79d4d805-e444-45be-b163-40d7a2457b0b",
   "metadata": {},
   "source": [
    "--Databases are the collection of data in order to store and retrieve data. \n",
    "\n",
    "1.SQL-RELATIONAL DATABASE MANAGEMENT SYSTEM (RDBMS)\n",
    "\n",
    "NOSQL-Non-relational or distributed database system.\n",
    "\n",
    "2.SQL-These databases have fixed or static or predefined schema\n",
    "\n",
    "NOSQL-They have dynamic schema\n",
    "\n",
    "3.SQL-These databases are not suited for hierarchical data storage.\n",
    "\n",
    "NOSQL-These databases are best suited for hierarchical data storage.\n",
    "\n",
    "4.SQL-These databases are best suited for complex queries\n",
    "\n",
    "NOSQL-These databases are not so good for complex queries\n",
    "\n",
    "5.SQL-Follows ACID(Atomicity,consistency,isolation,durability) property\n",
    "\n",
    "NOSQL-Follows CAP(consistency, availability, partition tolerance)\n",
    "\n",
    "6.SQL-Example: MYSQL\n",
    "\n",
    "NOSQL-example:MangoDB"
   ]
  },
  {
   "cell_type": "code",
   "execution_count": null,
   "id": "cac5116f-3c58-4aa3-aa1f-354b31dcc899",
   "metadata": {},
   "outputs": [],
   "source": []
  },
  {
   "cell_type": "markdown",
   "id": "cd8cef5a-4552-444d-b867-e65a8ea74f7f",
   "metadata": {},
   "source": [
    "Q2. What is DDL? Explain why CREATE, DROP, ALTER, and TRUNCATE are used with an example."
   ]
  },
  {
   "cell_type": "markdown",
   "id": "e80f3bfe-6891-4040-94d2-f3183f6245ca",
   "metadata": {},
   "source": [
    "Data Definition Language (DDL) is used to create and modify the structure of objects in a database using predefined commands and a specific syntax\n",
    "\n",
    "CREATE-The CREATE command creates a new table in the database.\n",
    "\n",
    "create table student(id int,name varchar(),city varchar());\n",
    "\n",
    "DROP- The DROP command deletes a table in the database.\n",
    "\n",
    "drop table student;\n",
    "\n",
    "ALTER-The ALTER command adds, deletes, or modifies columns in a table.\n",
    "\n",
    "The ALTER command also adds and deletes various constraints in a table.\n",
    "\n",
    "alter table student add email varchar();\n",
    "\n",
    "TRUNCATE- The TRUNCATE command deletes the data inside a table, but not the table itself.\n",
    "\n",
    "truncate table student;\n"
   ]
  },
  {
   "cell_type": "code",
   "execution_count": null,
   "id": "745fe0e8-871c-41dd-bedd-6c5c38c8eea3",
   "metadata": {},
   "outputs": [],
   "source": []
  },
  {
   "cell_type": "markdown",
   "id": "8722376c-6fdb-41f8-b32c-3c898159451c",
   "metadata": {},
   "source": [
    "Q3. What is DML? Explain INSERT, UPDATE, and DELETE with an example."
   ]
  },
  {
   "cell_type": "markdown",
   "id": "47da6a67-fa1b-4e23-b986-fd7ad2675d84",
   "metadata": {},
   "source": [
    "DML-Data Manipulation Language\n",
    "We can easily access, store, change, update and remove existing folders from the database using DML commands.\n",
    "\n",
    "INSERT-The INSERT INTO command is used to insert new rows in a table.\n",
    "\n",
    "INSERT INTO student VALUES (01,'pranta','kolkata');\n",
    "\n",
    "UPDATE-The UPDATE statement is used to modify the existing records in a table.\n",
    "\n",
    "update student set city='delhi' where id=01;\n",
    "\n",
    "DELETE-The DELETE statement is used to delete existing records in a table.\n",
    "\n",
    "delete from student where id=01;\n"
   ]
  },
  {
   "cell_type": "code",
   "execution_count": null,
   "id": "8a81bf0e-d2d0-4b0a-992d-ad4f3b4cf78f",
   "metadata": {},
   "outputs": [],
   "source": []
  },
  {
   "cell_type": "markdown",
   "id": "9f1093e8-fb26-49a5-9dae-c60d57d80571",
   "metadata": {},
   "source": [
    "Q4. What is DQL? Explain SELECT with an example."
   ]
  },
  {
   "cell_type": "markdown",
   "id": "248eab43-e6fb-4e44-93b2-3819a0b3edae",
   "metadata": {},
   "source": [
    "DQL-data query language\n",
    "\n",
    "DQL statements are used for performing queries on the data within schema objects.\n",
    "\n",
    "Select-It is used to retrieve data from the database.\n",
    "\n",
    "select * from student;\n"
   ]
  },
  {
   "cell_type": "code",
   "execution_count": null,
   "id": "9ab61c66-3539-4963-9949-00f61714d7dd",
   "metadata": {},
   "outputs": [],
   "source": []
  },
  {
   "cell_type": "markdown",
   "id": "0eaa2c4d-ffed-4afb-b771-e1cb3adb8bb9",
   "metadata": {},
   "source": [
    "Q5. Explain Primary Key and Foreign Key."
   ]
  },
  {
   "cell_type": "markdown",
   "id": "d9d9f88a-16a0-4c36-b8e5-d4f4c7c44327",
   "metadata": {},
   "source": [
    "\n",
    "1.Primary Key:A primary key generally focuses on the uniqueness of the table. It assures the value in the specific column is unique.\n",
    "\n",
    "Foreign Key:A foreign key is generally used to build a relationship between the two tables.\n",
    "\n",
    "2.Primary Key:Table allows only one primary key.\n",
    "\n",
    "Foreign Key:Tables can allow more than one foreign key.\n",
    "\n",
    "3.Primary Key:The primary key doesn’t allow null values.\n",
    "\n",
    "Foreign Key:Foreign key accepts multiple null values.\n",
    "\n",
    "4.Primary Key:It can identify the record uniquely in the database table.\n",
    "\n",
    "Foreign Key:A foreign key is a field in the table that is the primary key in another table.\n",
    "\n",
    "5.Primary Key:In the primary key, the value cannot be removed from the parent table.\n",
    "\n",
    "Foreign Key:In this, the value can be deleted from the child table."
   ]
  },
  {
   "cell_type": "code",
   "execution_count": null,
   "id": "98dcde07-9c01-46ad-b29b-2a51c90245cd",
   "metadata": {},
   "outputs": [],
   "source": []
  },
  {
   "cell_type": "markdown",
   "id": "6a55166c-abc0-41bf-a0d1-af0931e05459",
   "metadata": {},
   "source": [
    "Q6.Write a python code to connect MySQL to python. Explain the cursor() and execute() method."
   ]
  },
  {
   "cell_type": "markdown",
   "id": "c58de7bc-92ac-4ca6-b9d2-3ff611858d4b",
   "metadata": {},
   "source": [
    "import mysql.connector\n",
    "mydb=mysql.connector.connect(\n",
    "    host=\"localhost\",\n",
    "    user=\"abc\",\n",
    "    password=\"password\"\n",
    ")\n",
    "\n",
    "cursor():cursors are used to execute database queries and retrieve data from a MySQL database using the Python MySQL Connector API.\n",
    "\n",
    "execute():execute() is amethod ifthe cursor object that is used to execute SQL queries on a MYSQL database.\n"
   ]
  },
  {
   "cell_type": "code",
   "execution_count": null,
   "id": "2eb8dddd-e555-44cf-85f4-eda9ec35a9d2",
   "metadata": {},
   "outputs": [],
   "source": []
  },
  {
   "cell_type": "markdown",
   "id": "372a94e5-3d62-44b7-9470-97bf8db23f31",
   "metadata": {},
   "source": [
    "Q7.Give the order of execution of SQL clauses in an SQL query."
   ]
  },
  {
   "cell_type": "markdown",
   "id": "4f5c360e-fe5a-42a2-be4a-f949e4c59006",
   "metadata": {},
   "source": [
    "FROM: The FROM clause specifies the table or tables that the query will retrieve data from.\n",
    "\n",
    "JOIN: If the query includes joins, they are executed next. Joins are used to combine data from two or more tables based on a related column between them.\n",
    "\n",
    "WHERE: The WHERE clause filters the rows returned by the query based on a specified condition.\n",
    "\n",
    "GROUP BY: If the query includes a GROUP BY clause, the data is grouped based on the specified column or columns.\n",
    "\n",
    "HAVING: The HAVING clause filters the groups returned by the query based on a specified condition.\n",
    "\n",
    "SELECT: The SELECT clause specifies the columns that will be included in the query result set.\n",
    "\n",
    "DISTINCT: If the query includes the DISTINCT keyword, duplicate rows are removed from the result set.\n",
    "\n",
    "ORDER BY: The ORDER BY clause sorts the result set based on the specified column or columns.\n",
    "\n",
    "LIMIT/OFFSET: If the query includes the LIMIT and OFFSET keywords, the result set is limited to a specified number of rows starting from a specified offset."
   ]
  },
  {
   "cell_type": "code",
   "execution_count": null,
   "id": "2cd5d831-1766-4b1f-8bad-eaf220bb8342",
   "metadata": {},
   "outputs": [],
   "source": []
  }
 ],
 "metadata": {
  "kernelspec": {
   "display_name": "Python 3 (ipykernel)",
   "language": "python",
   "name": "python3"
  },
  "language_info": {
   "codemirror_mode": {
    "name": "ipython",
    "version": 3
   },
   "file_extension": ".py",
   "mimetype": "text/x-python",
   "name": "python",
   "nbconvert_exporter": "python",
   "pygments_lexer": "ipython3",
   "version": "3.10.8"
  }
 },
 "nbformat": 4,
 "nbformat_minor": 5
}
