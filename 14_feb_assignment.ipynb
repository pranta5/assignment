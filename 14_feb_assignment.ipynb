{
 "cells": [
  {
   "cell_type": "markdown",
   "id": "7c2e4106-0bf7-4ecf-ab39-3798a5d46ad2",
   "metadata": {},
   "source": [
    "What is multithreading in python? Why is it used? Name the module used to handle threads in python."
   ]
  },
  {
   "cell_type": "markdown",
   "id": "e13472c3-b44f-4322-923b-4fa4d60892c0",
   "metadata": {},
   "source": [
    "Multithreading in Python refers to the ability of a program to execute multiple threads concurrently, where each thread can perform a specific task or operation independently. Each thread shares the same memory space and can access and modify the same variables.\n",
    "\n",
    "Multithreading is used to improve the performance of a program by allowing it to take advantage of modern multi-core processors. By dividing the work of a program among multiple threads, the program can execute multiple operations simultaneously, which can lead to a significant speedup.\n",
    "\n",
    "The threading module is used to handle threads in Python. It provides a simple and easy-to-use interface for creating, starting, and managing threads in a Python program. The threading module includes various synchronization primitives such as locks, semaphores, and barriers, which can be used to coordinate and control the access to shared resources among multiple threads."
   ]
  },
  {
   "cell_type": "code",
   "execution_count": null,
   "id": "fd849d53-29b3-4ffa-9456-93b492172658",
   "metadata": {},
   "outputs": [],
   "source": []
  },
  {
   "cell_type": "markdown",
   "id": "84b7a3a7-ff95-4818-89da-0ab8aba510aa",
   "metadata": {},
   "source": [
    "Q2. Why threading module used? Write the use of the following functions:\n",
    "\n",
    "1. activeCount())\n",
    "\n",
    "2. currentThread()\n",
    "\n",
    "3. enumerate()"
   ]
  },
  {
   "cell_type": "markdown",
   "id": "d32db405-7dbe-4bcc-b030-0d00dc353f79",
   "metadata": {},
   "source": [
    "The threading module in Python is used to create and manage threads in a program. It provides a simple and easy-to-use interface for creating, starting, and managing threads. The module includes various functions and classes to control the behavior of threads.\n",
    "\n",
    "Here are the uses of the following functions in the threading module:\n",
    "\n",
    "activeCount(): This function returns the number of currently active threads in the program. This can be useful for debugging and monitoring the behavior of a program that uses multiple threads.\n",
    "\n",
    "currentThread(): This function returns a reference to the currently executing thread. This can be useful for identifying the thread that is currently running and accessing its properties such as its name, ID, or status.\n",
    "\n",
    "enumerate(): This function returns a list of all currently active threads in the program. Each item in the list is a reference to a thread object, which can be used to access the properties and methods of the thread. This can be useful for debugging and monitoring the behavior of a program that uses multiple threads."
   ]
  },
  {
   "cell_type": "code",
   "execution_count": null,
   "id": "ef612d9c-2d6f-4505-a0bc-d2e9ff9ac6f9",
   "metadata": {},
   "outputs": [],
   "source": []
  },
  {
   "cell_type": "markdown",
   "id": "0a5466aa-b0a7-4f62-bc32-8b92f3887cb8",
   "metadata": {},
   "source": [
    "Q3. Explain the following functions:\n",
    "\n",
    "1. run()\n",
    "\n",
    "2. start()\n",
    "\n",
    "3. join()\n",
    "\n",
    "4. IsAlive()"
   ]
  },
  {
   "cell_type": "markdown",
   "id": "308e2eb6-4650-4dcb-9e6a-0cab0ec32ee6",
   "metadata": {},
   "source": [
    "In the Python threading module, the following functions are used to create, start, and manage threads:\n",
    "\n",
    "run(): This method is called when a thread starts running. It defines the behavior of the thread and contains the code that the thread executes. When creating a new thread, you can subclass the Thread class and override the run() method to define the behavior of the thread.\n",
    "\n",
    "start(): This method is used to start a new thread. It creates a new thread object, initializes it with the run() method, and starts the thread running. When the start() method is called, the thread's run() method is executed in a separate thread of execution.\n",
    "\n",
    "join(): This method is used to wait for a thread to complete its execution. When you call the join() method on a thread, the calling thread is blocked until the thread being joined completes its execution. This can be useful for synchronizing the behavior of multiple threads and ensuring that they complete their work in a specific order.\n",
    "\n",
    "isAlive(): This method is used to check whether a thread is still executing or has completed its execution. When you call the isAlive() method on a thread, it returns True if the thread is still running and False if the thread has completed its execution. This can be useful for checking the status of a thread and determining whether it has completed its work or not."
   ]
  },
  {
   "cell_type": "code",
   "execution_count": null,
   "id": "63f57e17-717b-4fec-9bb4-022ede096b6b",
   "metadata": {},
   "outputs": [],
   "source": []
  },
  {
   "cell_type": "markdown",
   "id": "58a36fac-2a6d-4b94-9ebf-b45ac0b0cdad",
   "metadata": {},
   "source": [
    "Q4. Write a python program to create two threads. Thread one must print the list of squares and thread two must print the list of cubes."
   ]
  },
  {
   "cell_type": "code",
   "execution_count": 12,
   "id": "9aea2386-852a-4e62-987f-b37c868ecc48",
   "metadata": {},
   "outputs": [
    {
     "name": "stdout",
     "output_type": "stream",
     "text": [
      "2 squared is 4\n",
      "3 squared is 9\n",
      "4 squared is 16\n",
      "5 squared is 25\n",
      "6 squared is 36\n",
      "2 cubed is 8\n",
      "3 cubed is 27\n",
      "4 cubed is 64\n",
      "5 cubed is 125\n",
      "6 cubed is 216\n"
     ]
    }
   ],
   "source": [
    "import threading\n",
    "list1=[2,3,4,5,6]\n",
    "\n",
    "def print_squares():\n",
    "    for i in list1:\n",
    "        print(f\"{i} squared is {i*i}\")\n",
    "def print_cubes():\n",
    "    for i in list1:\n",
    "        print(f\"{i} cubed is {i*i*i}\")\n",
    "if __name__==\"__main__\":\n",
    "    t1=threading.Thread(target=print_squares)\n",
    "    t2=threading.Thread(target=print_cubes)\n",
    "    \n",
    "    t1.start()\n",
    "    t2.start()\n",
    "    \n",
    "    t1.join()\n",
    "    t2.join()"
   ]
  },
  {
   "cell_type": "code",
   "execution_count": null,
   "id": "e39ecbab-f8ed-44d5-96df-63a52cda7132",
   "metadata": {},
   "outputs": [],
   "source": []
  },
  {
   "cell_type": "markdown",
   "id": "a27c9aae-127e-4d35-b9ac-acb9868241a4",
   "metadata": {},
   "source": [
    "Q5. State advantages and disadvantages of multithreading."
   ]
  },
  {
   "cell_type": "markdown",
   "id": "833386fd-7d7a-4151-92e9-3d20187bb14f",
   "metadata": {},
   "source": [
    "Multithreading refers to the ability of a CPU to run multiple threads of execution concurrently. Each thread can be thought of as a separate flow of execution within the same program, running in parallel with other threads.\n",
    "\n",
    "Advantages of Multithreading:\n",
    "\n",
    "Improved performance: Multithreading can improve the performance of a program by allowing it to take advantage of multiple CPU cores. By dividing a program into multiple threads, each core can execute a separate thread simultaneously, thus increasing overall throughput.\n",
    "\n",
    "Responsiveness: Multithreading can improve the responsiveness of a program by allowing it to continue processing user input or responding to external events while it performs time-consuming tasks in the background.\n",
    "\n",
    "Resource sharing: Multithreading allows multiple threads to share resources, such as memory and I/O devices, more efficiently. This can reduce the overall resource usage of a program and improve scalability.\n",
    "\n",
    "Disadvantages of Multithreading:\n",
    "\n",
    "Complexity: Multithreaded programming can be complex and error-prone. Synchronization between threads must be carefully managed to avoid race conditions and deadlocks.\n",
    "\n",
    "Debugging: Multithreaded programs can be difficult to debug, as the behavior of the program may depend on the order in which threads are executed.\n",
    "\n",
    "Overhead: Multithreading introduces overhead in the form of context switching, where the CPU must save and restore the state of each thread. This can reduce overall performance if there are more threads than CPU cores.\n",
    "\n",
    "Resource contention: If multiple threads access the same shared resource simultaneously, they may contend for access, leading to reduced performance or even deadlock."
   ]
  },
  {
   "cell_type": "code",
   "execution_count": null,
   "id": "a69ef9ad-8128-4ba0-abde-41b54f7696a1",
   "metadata": {},
   "outputs": [],
   "source": []
  },
  {
   "cell_type": "markdown",
   "id": "968965a1-7c6a-43ef-8246-a56fd20f6434",
   "metadata": {},
   "source": [
    "Q6. Explain deadlocks and race conditions."
   ]
  },
  {
   "cell_type": "markdown",
   "id": "50bccf62-e488-4d6d-bdf1-65ec87549d30",
   "metadata": {},
   "source": [
    "Deadlock occurs when two or more threads or processes are blocked and unable to proceed because each is waiting for the other to release a resource or lock. This can happen when each thread holds a resource that the other thread needs, creating a circular dependency. As a result, neither thread can continue, leading to a system hang or crash. Deadlocks are a common issue in multi-threaded or distributed systems.\n",
    "\n",
    "Race condition is a situation where the behavior of a program depends on the timing of how different threads or processes are executed. It occurs when two or more threads access a shared resource simultaneously, and the final outcome depends on the order in which the threads execute. Race conditions can cause unpredictable results, such as data corruption, incorrect results, or program crashes.\n"
   ]
  },
  {
   "cell_type": "code",
   "execution_count": null,
   "id": "7fd39c6f-1e55-4eb8-80ce-a85d5f2304ed",
   "metadata": {},
   "outputs": [],
   "source": []
  }
 ],
 "metadata": {
  "kernelspec": {
   "display_name": "Python 3 (ipykernel)",
   "language": "python",
   "name": "python3"
  },
  "language_info": {
   "codemirror_mode": {
    "name": "ipython",
    "version": 3
   },
   "file_extension": ".py",
   "mimetype": "text/x-python",
   "name": "python",
   "nbconvert_exporter": "python",
   "pygments_lexer": "ipython3",
   "version": "3.10.8"
  }
 },
 "nbformat": 4,
 "nbformat_minor": 5
}
