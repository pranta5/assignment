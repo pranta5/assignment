{
 "cells": [
  {
   "cell_type": "markdown",
   "id": "c956e316-a5c2-444d-96e5-6c19d31e226b",
   "metadata": {},
   "source": [
    "q1.What is Abstraction in OOps? Explain with an example."
   ]
  },
  {
   "cell_type": "markdown",
   "id": "643cba3f-7adb-4aa8-b620-548899ac3fe8",
   "metadata": {},
   "source": [
    "Abstraction in object-oriented programming (OOPs) refers to the process of hiding implementation details and exposing only the essential features of an object to the user.abstraction enables the user to focus on what an object does instead of how it does it.\n",
    "\n",
    "class Car:\n",
    "\n",
    "    def __init__(self, color, model, year):\n",
    "    \n",
    "        self.color = color\n",
    "        self.model = model\n",
    "        self.year = year\n",
    "    \n",
    "    def start(self):\n",
    "        print(\"The car has started.\")\n",
    "    \n",
    "    def stop(self):\n",
    "        print(\"The car has stopped.\")"
   ]
  },
  {
   "cell_type": "code",
   "execution_count": null,
   "id": "834dd842-b996-4f50-b925-c199b679a898",
   "metadata": {},
   "outputs": [],
   "source": []
  },
  {
   "cell_type": "markdown",
   "id": "2d3387c6-f94f-4957-865b-988d8a66b42a",
   "metadata": {},
   "source": [
    "Q2.Differentiate between Abstraction and Encapsulation. Explain with an example.\n",
    "\n",
    "Abstraction in object-oriented programming (OOPs) refers to the process of hiding implementation details and exposing only the essential features of an object to the user.abstraction enables the user to focus on what an object does instead of how it does it.\n",
    "\n",
    "\n",
    "class Car:\n",
    "\n",
    "    def __init__(self, color, model, year):\n",
    "    \n",
    "        self.color = color\n",
    "        self.model = model\n",
    "        self.year = year\n",
    "    \n",
    "    def start(self):\n",
    "        print(\"The car has started.\")\n",
    "    \n",
    "    def stop(self):\n",
    "        print(\"The car has stopped.\")\n",
    "        \n",
    "\n",
    "Encapsulation, on the other hand, is the practice of hiding the internal details of an object from the outside world, and exposing only the necessary interfaces for interacting with it. Encapsulation allows us to protect an object's data from unauthorized access and modification.\n",
    "\n",
    "\n",
    "class BankAccount:\n",
    "\n",
    "    def __init__(self, account_number, account_holder_name, balance, account_type):\n",
    "        self.account_number = account_number\n",
    "        self.account_holder_name = account_holder_name\n",
    "        self._balance = balance\n",
    "        self.account_type = account_type\n",
    "\n",
    "    def get_balance(self):\n",
    "        return self._balance\n",
    "\n",
    "    def deposit(self, amount):\n",
    "        if amount > 0:\n",
    "            self._balance += amount\n",
    "\n",
    "    def withdraw(self, amount):\n",
    "        if amount > 0 and amount <= self._balance:\n",
    "            self._balance -= amount\n"
   ]
  },
  {
   "cell_type": "code",
   "execution_count": null,
   "id": "7b37b30d-34e9-4f2f-8e9a-8bb7bfa0a21f",
   "metadata": {},
   "outputs": [],
   "source": []
  },
  {
   "cell_type": "markdown",
   "id": "c961d71e-7c77-4449-80be-716683ffb333",
   "metadata": {},
   "source": [
    "Q3.What is abc module in python? Why is it used?"
   ]
  },
  {
   "cell_type": "markdown",
   "id": "102b4e41-909d-4751-a050-92a043f1d590",
   "metadata": {},
   "source": [
    "The abc module in Python stands for \"Abstract Base Classes\". \n",
    "\n",
    "\n",
    "The abc module is used in Python to create abstract base classes and enforce their interface on derived classes. It provides the ABC class, which can be used as a base class for creating abstract classes. It also provides the abstractmethod decorator, which can be used to mark a method as abstract and require its implementation in subclasses.\n",
    "\n",
    "\n",
    "import abc\n",
    "\n",
    "class Animal(abc.ABC):\n",
    "\n",
    "    @abc.abstractmethod\n",
    "    def speak(self):\n",
    "        pass\n"
   ]
  },
  {
   "cell_type": "code",
   "execution_count": null,
   "id": "9f20ffc2-3bbe-4182-b5ca-49f1233111f1",
   "metadata": {},
   "outputs": [],
   "source": []
  },
  {
   "cell_type": "markdown",
   "id": "00ef5112-f1d5-4482-bd29-9cf7854a0e7a",
   "metadata": {},
   "source": [
    "Q4. How can we achieve data abstraction?"
   ]
  },
  {
   "cell_type": "markdown",
   "id": "67d4ec4a-c5ee-4234-adc5-53c1382c03c4",
   "metadata": {},
   "source": [
    "1.Encapsulation using classes\n",
    "\n",
    "2.Abstract classes and interfaces"
   ]
  },
  {
   "cell_type": "code",
   "execution_count": null,
   "id": "1bff3d7e-5096-4dd9-a6f0-7a0a19438cd7",
   "metadata": {},
   "outputs": [],
   "source": []
  },
  {
   "cell_type": "markdown",
   "id": "2527a0de-f07a-4560-9cc5-6bf77e25c3ee",
   "metadata": {},
   "source": [
    "Q5.Can we create an instance of an abstract class? Explain your answer."
   ]
  },
  {
   "cell_type": "markdown",
   "id": "1a56d663-436b-4e44-b5b9-0813d08bed01",
   "metadata": {},
   "source": [
    "we cannot create an instance or object of an abstract class in Python.\n",
    "\n",
    "Because,Abstract classes are not complete, as they may have some methods that are not defined."
   ]
  },
  {
   "cell_type": "code",
   "execution_count": null,
   "id": "1fc23026-4977-4b20-965b-408a392cb17d",
   "metadata": {},
   "outputs": [],
   "source": []
  }
 ],
 "metadata": {
  "kernelspec": {
   "display_name": "Python 3 (ipykernel)",
   "language": "python",
   "name": "python3"
  },
  "language_info": {
   "codemirror_mode": {
    "name": "ipython",
    "version": 3
   },
   "file_extension": ".py",
   "mimetype": "text/x-python",
   "name": "python",
   "nbconvert_exporter": "python",
   "pygments_lexer": "ipython3",
   "version": "3.10.8"
  }
 },
 "nbformat": 4,
 "nbformat_minor": 5
}
