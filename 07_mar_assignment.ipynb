{
 "cells": [
  {
   "cell_type": "markdown",
   "id": "9a8128e4-e9f0-4b40-a242-1a7df9c229a8",
   "metadata": {},
   "source": [
    "Q1. What are the three measures of central tendency?"
   ]
  },
  {
   "cell_type": "markdown",
   "id": "acd6cd07-1bff-4d5a-a774-50307f93297d",
   "metadata": {},
   "source": [
    "The three measures of central tendency are:\n",
    "\n",
    "Mean: It is the sum of all the values in a data set divided by the number of values in the set. It represents the average value of the data set.\n",
    "\n",
    "Median: It is the middle value in a data set when the values are arranged in order from smallest to largest. If there are an even number of values, the median is the average of the two middle values.\n",
    "\n",
    "Mode: It is the value that appears most frequently in a data set. There can be multiple modes or no mode in a data set.\n"
   ]
  },
  {
   "cell_type": "markdown",
   "id": "f0fead58-e884-4ec7-a6c8-c5bb1e2dd770",
   "metadata": {},
   "source": [
    "Q2. What is the difference between the mean, median, and mode? How are they used to measure the\n",
    "central tendency of a dataset?"
   ]
  },
  {
   "cell_type": "markdown",
   "id": "a59df516-8372-486e-8c30-16b9d0d2d0fa",
   "metadata": {},
   "source": [
    "The mean, median, and mode are all measures of central tendency that are used to describe the typical or central value of a dataset.\n",
    "\n",
    "The mean is the arithmetic average of a set of values, calculated by adding up all the values and dividing by the total number of values. The mean is sensitive to outliers or extreme values in a dataset, as it takes into account all the values.\n",
    "\n",
    "The median is the middle value in a dataset when the values are arranged in order from smallest to largest. It is less sensitive to outliers than the mean and is a better representation of the central tendency of the dataset when there are outliers present.\n",
    "\n",
    "The mode is the most frequently occurring value in a dataset. It is useful when you want to find out which value occurs most frequently in the dataset. The mode is especially useful when working with categorical data, such as colors or types of food."
   ]
  },
  {
   "cell_type": "markdown",
   "id": "6fcdb19a-f47f-469e-80eb-e6c20bf92948",
   "metadata": {},
   "source": [
    "Q3. Measure the three measures of central tendency for the given height data:\n",
    "[178,177,176,177,178.2,178,175,179,180,175,178.9,176.2,177,172.5,178,176.5]"
   ]
  },
  {
   "cell_type": "markdown",
   "id": "1af48b92-f2ad-4a2a-9b10-404b9fe5114e",
   "metadata": {},
   "source": [
    " Mean = (178 + 177 + 176 + 177 + 178.2 + 178 + 175 + 179 + 180 + 175 + 178.9 + 176.2 + 177 + 172.5 + 178 + 176.5) / 16\n",
    "      = 177.7\n",
    "\n",
    "\n",
    " First, let's arrange the data in order from smallest to largest:\n",
    " \n",
    " 172.5, 175, 175, 176, 176.2, 176.5, 177, 177, 178, 178, 178, 178.2, 178.9, 179, 180\n",
    " \n",
    " Since there are an even number of values, we take the average of the two middle values:\n",
    " \n",
    " Median = (177 + 178) / 2\n",
    "        = 177.5\n",
    "\n",
    "\n",
    " In the given height data, the mode is 178 as it appears three times, which is more frequent than any other value in the dataset.\n"
   ]
  },
  {
   "cell_type": "markdown",
   "id": "38127625-67e1-45e5-9ec9-1e369bdd2445",
   "metadata": {},
   "source": [
    "Q4. Find the standard deviation for the given data:\n",
    "[178,177,176,177,178.2,178,175,179,180,175,178.9,176.2,177,172.5,178,176.5]"
   ]
  },
  {
   "cell_type": "markdown",
   "id": "0fbfe8a9-cb76-42e3-be27-0580e6bb2382",
   "metadata": {},
   "source": [
    "    Deviation from mean = [178-177.7, 177-177.7, 176-177.7, 177-177.7, 178.2-177.7, 178-177.7, 175-177.7, 179-177.7,                           180-177.7, 175-177.7, 178.9-177.7, 176.2-177.7, 177-177.7, 172.5-177.7, 178-177.7, 176.5-177.7]\n",
    "                        \n",
    "                        = [0.3, -0.7, -1.7, -0.7, 0.5, 0.3, -2.7, 1.3, 2.3, -2.7, 1.2, -1.5, -0.7, -5.2, 0.3, -1.2]\n",
    "\n",
    "            \n",
    "Squared deviation = (deviation from mean)^2\n",
    "    \n",
    "Squared deviation = [0.09, 0.49, 2.89, 0.49, 0.25, 0.09, 7.29, 1.69, 5.29, 7.29, 1.44, 2.25, 0.49, 27.04, 0.09, 1.44]\n",
    "    \n",
    "Variance = (sum of squared deviations) / (number of values in the data set - 1)\n",
    "             =(0.09+0.49+2.89+0.49+0.25+0.09+7.29+1.69+5.29+7.29+1.44+2.25+0.49+27.04+0.09+1.44) / (16-1)\n",
    "             = 6.0875\n",
    "\n",
    "Variance = (sum of squared deviations) / (number of values in the data set - 1)\n",
    "             = (0.09+0.49+2.89+0.49+0.25+0.09+7.29+1.69+5.29+7.29+1.44+2.25+0.49+27.04+0.09+1.44) / (16-1)\n",
    "             = 6.0875\n",
    "\n",
    "                \n",
    "Standard deviation = sqrt(variance)\n",
    "                    = sqrt(6.0875)\n",
    "                    = 2.4689 (rounded to 4 decimal places)\n",
    "      "
   ]
  },
  {
   "cell_type": "markdown",
   "id": "65f5c33b-8ffa-4135-8091-39a9a1b0772a",
   "metadata": {},
   "source": [
    "Q5. How are measures of dispersion such as range, variance, and standard deviation used to describe\n",
    "the spread of a dataset? Provide an example."
   ]
  },
  {
   "cell_type": "markdown",
   "id": "6ba90288-35fc-4e2c-8669-52be67f7e2bf",
   "metadata": {},
   "source": [
    "Measures of dispersion, such as range, variance, and standard deviation, are used to describe the spread or variability of a dataset. These measures help to quantify how spread out the values are in the dataset and provide useful information about the data's distribution.\n",
    "\n",
    "The range is the simplest measure of dispersion, and it is calculated by subtracting the smallest value in the dataset from the largest value. However, the range is sensitive to outliers and does not provide much detail about the distribution of the data.\n",
    "\n",
    "The variance and standard deviation, on the other hand, are more useful measures of dispersion because they take into account the deviation of each value from the mean. The variance is calculated by taking the average of the squared deviations from the mean, while the standard deviation is the square root of the variance. A higher variance or standard deviation indicates that the values are more spread out, while a lower variance or standard deviation indicates that the values are more tightly clustered around the mean.\n",
    "\n",
    "For example, let's consider two datasets:\n",
    "\n",
    "Dataset A: [1, 2, 3, 4, 5]\n",
    "Dataset B: [1, 1, 1, 1, 9]\n",
    "\n",
    "The range of both datasets is 4, as the difference between the smallest and largest value is 4 in both cases. However, the variance and standard deviation tell us more about the spread of the data.\n",
    "\n",
    "For Dataset A, the mean is 3, and the variance is 2.5, while the standard deviation is 1.58. This indicates that the values are relatively tightly clustered around the mean.\n",
    "\n",
    "For Dataset B, the mean is 3, but the variance is much higher at 8, while the standard deviation is 2.83. This indicates that the values are more spread out, with a large deviation from the mean due to the outlier value of 9."
   ]
  },
  {
   "cell_type": "markdown",
   "id": "0516c081-d471-47b4-a855-71f50ef1c2b4",
   "metadata": {},
   "source": [
    "Q6. What is a Venn diagram?"
   ]
  },
  {
   "cell_type": "markdown",
   "id": "6dd116c6-776e-4538-9571-8c7053821ee6",
   "metadata": {},
   "source": [
    "A Venn diagram is a graphical representation of the relationships between sets. It consists of one or more overlapping circles or shapes, with each circle representing a set and the overlap representing the intersection of those sets. The elements or members of each set are typically represented as points within or outside of the circles, depending on whether they belong to the set or not."
   ]
  },
  {
   "cell_type": "markdown",
   "id": "025294ef-30ca-4754-b15d-1505f6164fcd",
   "metadata": {},
   "source": [
    "Q7. For the two given sets A = (2,3,4,5,6,7) & B = (0,2,6,8,10). Find:\n",
    "(i) A  ∩ B\n",
    "(ii) A ⋃ B"
   ]
  },
  {
   "cell_type": "markdown",
   "id": "7de95c55-da3b-451b-9c79-d510cceea6df",
   "metadata": {},
   "source": [
    "(i) A ∩ B (the intersection of A and B) represents the set of elements that are common to both sets A and B. In other words, it represents the overlap between the two sets. The elements that belong to A ∩ B are those that appear in both sets A and B.\n",
    "\n",
    "To find A ∩ B, we can simply identify the elements that are common to both sets A and B:\n",
    "\n",
    "A ∩ B = {2, 6}\n",
    "\n",
    "(ii) A ⋃ B (the union of A and B) represents the set of elements that belong to either set A or set B or both. In other words, it represents the combination of the two sets, without any duplicates.\n",
    "\n",
    "To find A ⋃ B, we can simply combine the elements from both sets A and B, without including any duplicates:"
   ]
  },
  {
   "cell_type": "markdown",
   "id": "a96e87bc-9de1-4008-bf4b-9b898545eb54",
   "metadata": {},
   "source": [
    "Q8. What do you understand about skewness in data?"
   ]
  },
  {
   "cell_type": "markdown",
   "id": "5612bdda-7671-40a2-90c0-0d46027cf498",
   "metadata": {},
   "source": [
    "Skewness is a measure of the asymmetry of a distribution of data. In other words, it is a measure of how much a distribution deviates from symmetry. A symmetric distribution has no skewness, while a skewed distribution has a tail that is either longer or shorter than the other tail.\n",
    "\n",
    "Skewness can be positive, negative, or zero. If the tail of the distribution is longer on the right side, the skewness is positive, and the distribution is said to be right-skewed or positively skewed. If the tail of the distribution is longer on the left side, the skewness is negative, and the distribution is said to be left-skewed or negatively skewed. If the distribution is symmetric, the skewness is zero."
   ]
  },
  {
   "cell_type": "markdown",
   "id": "8ba65fc3-3035-4908-85c2-81f72ca2c1d0",
   "metadata": {},
   "source": [
    "Q9. If a data is right skewed then what will be the position of median with respect to mean?"
   ]
  },
  {
   "cell_type": "markdown",
   "id": "43a8abce-71b4-4733-8def-511bb81124a7",
   "metadata": {},
   "source": [
    "If a data set is right-skewed, the median is typically smaller than the mean. This is because the tail of the distribution is longer on the right side, and it pulls the mean in that direction, making it larger than the median. The median is less affected by extreme values in the tail of the distribution, so it tends to be closer to the center of the distribution, where the majority of the data is located. Therefore, the median is a better measure of central tendency than the mean for skewed data sets."
   ]
  },
  {
   "cell_type": "markdown",
   "id": "1d83bfd5-d8e7-4359-a4ed-4a08e6ad0c03",
   "metadata": {},
   "source": [
    "Q10. Explain the difference between covariance and correlation. How are these measures used in\n",
    "statistical analysis?"
   ]
  },
  {
   "cell_type": "markdown",
   "id": "3519d9f7-3341-49b6-87d5-71a741f79b5e",
   "metadata": {},
   "source": [
    "Covariance measures the extent to which two variables vary together. It measures how much one variable changes as the other variable changes. A positive covariance indicates that the two variables tend to increase or decrease together, while a negative covariance indicates that one variable tends to increase as the other variable decreases. However, the magnitude of covariance is not standardized, and its value depends on the units of measurement of the two variables. Therefore, it is difficult to compare the covariance of two different data sets.\n",
    "\n",
    "Correlation, on the other hand, is a standardized measure of the relationship between two variables. It measures the strength and direction of the linear relationship between the two variables. The correlation coefficient ranges from -1 to +1, where a correlation of +1 indicates a perfect positive linear relationship, a correlation of -1 indicates a perfect negative linear relationship, and a correlation of 0 indicates no linear relationship between the variables.\n",
    "\n",
    "In statistical analysis, both covariance and correlation are used to study the relationship between two variables. However, correlation is more commonly used because it provides a standardized measure of the strength and direction of the relationship, which makes it easier to interpret and compare across different data sets. Covariance is still useful in cases where the units of measurement of the variables are not important, such as when comparing the performance of different stocks or assets in a portfolio. In general, correlation is preferred over covariance because it is easier to interpret and less affected by differences in the units of measurement of the two variables."
   ]
  },
  {
   "cell_type": "markdown",
   "id": "466096a0-dd17-4c3d-bfba-484d419e677a",
   "metadata": {},
   "source": [
    "Q11. What is the formula for calculating the sample mean? Provide an example calculation for a\n",
    "dataset."
   ]
  },
  {
   "cell_type": "markdown",
   "id": "68917f9d-1503-4736-b10b-8347c8b753df",
   "metadata": {},
   "source": [
    "x̄ = Σx / n\n",
    "\n",
    "Where x̄ is the sample mean, Σx is the sum of all the values in the data set, and n is the sample size (i.e., the number of values in the data set).\n",
    "\n",
    "Here's an example calculation for a data set:\n",
    "\n",
    "Data set: 2, 3, 5, 7, 8\n",
    "\n",
    "Step 1: Add up all the values in the data set: Σx = 2 + 3 + 5 + 7 + 8 = 25\n",
    "\n",
    "Step 2: Divide the sum by the number of values in the data set to get the sample mean:\n",
    "    \n",
    "    x̄ = Σx / n = 25 / 5 = 5\n",
    "\n",
    "    Therefore, the sample mean of the data set is 5.\n",
    "    "
   ]
  },
  {
   "cell_type": "markdown",
   "id": "e8f47c96-4a41-45bd-b3d5-9278eaef1f60",
   "metadata": {},
   "source": [
    "Q12. For a normal distribution data what is the relationship between its measure of central tendency?"
   ]
  },
  {
   "cell_type": "markdown",
   "id": "3343f1bc-9189-41a2-8260-299f3c150047",
   "metadata": {},
   "source": [
    "For a normal distribution data, the mean, median, and mode are equal. In other words, they all measure the central tendency of the data at the same point, which is the peak of the normal distribution. The normal distribution is symmetric around this point, which means that the mean, median, and mode are all located at the center of the distribution. This is one of the reasons why the normal distribution is widely used in statistical analysis, as it simplifies the calculation of the central tendency measures and makes them more interpretable.\n",
    "\n",
    "\n",
    "\n",
    "\n"
   ]
  },
  {
   "cell_type": "markdown",
   "id": "4238b79e-4fb7-47e5-9731-bbd79a622e13",
   "metadata": {},
   "source": [
    "Q13. How is covariance different from correlation?"
   ]
  },
  {
   "cell_type": "code",
   "execution_count": null,
   "id": "b96da5b2-dc34-46aa-b3b6-c1ac9f5834e5",
   "metadata": {},
   "outputs": [],
   "source": []
  },
  {
   "cell_type": "markdown",
   "id": "715f3605-b6dc-4fd8-963a-e430bc615dea",
   "metadata": {},
   "source": [
    "Q14. How do outliers affect measures of central tendency and dispersion? Provide an example."
   ]
  },
  {
   "cell_type": "code",
   "execution_count": null,
   "id": "40c6b471-675d-4aa1-9495-12d272ae351f",
   "metadata": {},
   "outputs": [],
   "source": []
  }
 ],
 "metadata": {
  "kernelspec": {
   "display_name": "Python 3 (ipykernel)",
   "language": "python",
   "name": "python3"
  },
  "language_info": {
   "codemirror_mode": {
    "name": "ipython",
    "version": 3
   },
   "file_extension": ".py",
   "mimetype": "text/x-python",
   "name": "python",
   "nbconvert_exporter": "python",
   "pygments_lexer": "ipython3",
   "version": "3.10.8"
  }
 },
 "nbformat": 4,
 "nbformat_minor": 5
}
